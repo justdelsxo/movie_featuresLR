{
  "nbformat": 4,
  "nbformat_minor": 0,
  "metadata": {
    "colab": {
      "provenance": []
    },
    "kernelspec": {
      "name": "python3",
      "display_name": "Python 3"
    },
    "language_info": {
      "name": "python"
    }
  },
  "cells": [
    {
      "cell_type": "markdown",
      "source": [
        "# In this project, I am using a movie dataset sourced from Kaggle. I will be using Linear regression to understand how various features influence movie ratings. The primary goal is to investigate the relationships between factors such as budget, genre, duration, year, and their impact on a movie's overall rating."
      ],
      "metadata": {
        "id": "b0DZpZ8cViEz"
      }
    },
    {
      "cell_type": "markdown",
      "source": [
        "# **Initiate and Configure Spark**"
      ],
      "metadata": {
        "id": "bnyhiA51pzxv"
      }
    },
    {
      "cell_type": "code",
      "execution_count": null,
      "metadata": {
        "colab": {
          "base_uri": "https://localhost:8080/"
        },
        "id": "soB6_OC8wQpC",
        "outputId": "fb2ef3bf-c594-4685-940d-c42a7c5e32b1"
      },
      "outputs": [
        {
          "output_type": "stream",
          "name": "stdout",
          "text": [
            "Collecting pyspark\n",
            "  Downloading pyspark-3.5.1.tar.gz (317.0 MB)\n",
            "\u001b[2K     \u001b[90m━━━━━━━━━━━━━━━━━━━━━━━━━━━━━━━━━━━━━━━━\u001b[0m \u001b[32m317.0/317.0 MB\u001b[0m \u001b[31m3.2 MB/s\u001b[0m eta \u001b[36m0:00:00\u001b[0m\n",
            "\u001b[?25h  Preparing metadata (setup.py) ... \u001b[?25l\u001b[?25hdone\n",
            "Requirement already satisfied: py4j==0.10.9.7 in /usr/local/lib/python3.10/dist-packages (from pyspark) (0.10.9.7)\n",
            "Building wheels for collected packages: pyspark\n",
            "  Building wheel for pyspark (setup.py) ... \u001b[?25l\u001b[?25hdone\n",
            "  Created wheel for pyspark: filename=pyspark-3.5.1-py2.py3-none-any.whl size=317488491 sha256=dd84ff37548cb6f96fad883b74fd62a3e7d63e4ad671624504df42c9c21176d6\n",
            "  Stored in directory: /root/.cache/pip/wheels/80/1d/60/2c256ed38dddce2fdd93be545214a63e02fbd8d74fb0b7f3a6\n",
            "Successfully built pyspark\n",
            "Installing collected packages: pyspark\n",
            "Successfully installed pyspark-3.5.1\n"
          ]
        }
      ],
      "source": [
        "!pip3 install pyspark"
      ]
    },
    {
      "cell_type": "code",
      "source": [
        "import pyspark\n",
        "from pyspark.sql import SparkSession\n",
        "\n",
        "spark = SparkSession.builder \\\n",
        "                    .appName(\"movieDataset\") \\\n",
        "                    .master(\"local[*]\") \\\n",
        "                    .config(\"spark.executor.memory\", \"10g\") \\\n",
        "                    .config(\"spark.driver.memory\", \"10g\") \\\n",
        "                    .config(\"spark.executor.cores\", \"2\") \\\n",
        "                    .config(\"spark.sql.inMemoryColumnarStorage.compressed\", \"true\") \\\n",
        "                    .getOrCreate()\n",
        "spark"
      ],
      "metadata": {
        "colab": {
          "base_uri": "https://localhost:8080/",
          "height": 216
        },
        "id": "PWEOwujOwV39",
        "outputId": "6e898ef3-3928-4622-c1ff-bd96f27d1d19"
      },
      "execution_count": null,
      "outputs": [
        {
          "output_type": "execute_result",
          "data": {
            "text/plain": [
              "<pyspark.sql.session.SparkSession at 0x7b4a76122050>"
            ],
            "text/html": [
              "\n",
              "            <div>\n",
              "                <p><b>SparkSession - in-memory</b></p>\n",
              "                \n",
              "        <div>\n",
              "            <p><b>SparkContext</b></p>\n",
              "\n",
              "            <p><a href=\"http://68d3ba36adc4:4040\">Spark UI</a></p>\n",
              "\n",
              "            <dl>\n",
              "              <dt>Version</dt>\n",
              "                <dd><code>v3.5.1</code></dd>\n",
              "              <dt>Master</dt>\n",
              "                <dd><code>local[*]</code></dd>\n",
              "              <dt>AppName</dt>\n",
              "                <dd><code>movieDataset</code></dd>\n",
              "            </dl>\n",
              "        </div>\n",
              "        \n",
              "            </div>\n",
              "        "
            ]
          },
          "metadata": {},
          "execution_count": 3
        }
      ]
    },
    {
      "cell_type": "code",
      "source": [
        "from google.colab import drive\n",
        "drive.mount('/content/drive')"
      ],
      "metadata": {
        "colab": {
          "base_uri": "https://localhost:8080/"
        },
        "id": "nCLDNM7IyH4O",
        "outputId": "e2261f43-5795-42a6-d5ae-ec5fb897ad60"
      },
      "execution_count": null,
      "outputs": [
        {
          "output_type": "stream",
          "name": "stdout",
          "text": [
            "Mounted at /content/drive\n"
          ]
        }
      ]
    },
    {
      "cell_type": "markdown",
      "source": [
        "---\n",
        "# **Task 1 - Data Loading and Preprocessing**\n",
        "---"
      ],
      "metadata": {
        "id": "09GqEutkqmIL"
      }
    },
    {
      "cell_type": "code",
      "source": [
        "# Load the data CSV file from google drive\n",
        "\n",
        "df = spark.read.csv(\"/content/drive/MyDrive/ML&Bigdata/movies.csv\", header=True, inferSchema=True)"
      ],
      "metadata": {
        "id": "FrJMVh9QyMsR"
      },
      "execution_count": null,
      "outputs": []
    },
    {
      "cell_type": "code",
      "source": [
        "# View the dataset\n",
        "\n",
        "df.show()"
      ],
      "metadata": {
        "colab": {
          "base_uri": "https://localhost:8080/"
        },
        "id": "2at9-geayPSi",
        "outputId": "05908ba5-6d02-4ec8-c727-ecd795992be8"
      },
      "execution_count": null,
      "outputs": [
        {
          "output_type": "stream",
          "name": "stdout",
          "text": [
            "+----------+--------------------+-----------------+------+-------------+--------+--------------------+-----+------------+-------------------+--------------------+--------------------+--------------------+--------------------+\n",
            "|        id|                name|             year|rating|  certificate|duration|               genre|votes|gross_income|       directors_id|      directors_name|            stars_id|          stars_name|         description|\n",
            "+----------+--------------------+-----------------+------+-------------+--------+--------------------+-----+------------+-------------------+--------------------+--------------------+--------------------+--------------------+\n",
            "| tt4710316|Best in Sex: 2015...|(2015 TV Special)|   4.0|        TV-MA|  94 min|         Adult, News|124.0|           0|          nm1624094|         Gary Miller|nm4766272,nm26705...|Farrah Laurel Abr...|The hottest adult...|\n",
            "| tt1281857|    Naughty Novelist|     (2008 Video)|   3.8|Not Certified|  88 min|               Adult|174.0|           0|          nm0045256|        John Bacchus|nm0128986,nm19691...|Darian Caine,Jack...|Darian is a succe...|\n",
            "| tt2294954|2011 AVN Awards Show|(2011 TV Special)|   5.7|Not Certified|  83 min|         Adult, News| 39.0|           0|nm1624094,nm0754845|Gary Miller,Timot...|nm2200343,nm26705...|Aubrey Addams,Asa...|          Add a Plot|\n",
            "| tt6843596|Best in Sex: 2017...|(2017 TV Special)|   4.9|        TV-MA|  87 min|         Adult, News|225.0|           0|          nm1624094|         Gary Miller|nm5221471,nm26705...|Amirah Adara,Asa ...|Considered the in...|\n",
            "| tt3705604|     AVN Awards 2014|(2014 TV Special)|   6.7|            R|  82 min|         Adult, News|101.0|           0|          nm1624094|         Gary Miller|nm2670531,nm49206...|Asa Akira,Anikka ...|Erotic filmmaking...|\n",
            "|tt12741008| Couples Guest House|         (2020– )|   6.0|Not Certified|   0 min|      Adult, Romance| 54.0|           0|          Anonymous|           nm0000000|nm11750590,nm1175...|Jayesh Arora,Rakh...|2 romantic couple...|\n",
            "| tt0207195|Wadd: The Life & ...|           (1999)|   6.8|        NC-17| 105 min|Documentary, Adul...|907.0|           0|          nm0256178|      Wesley Emerson|nm0001360,nm17206...|John Holmes,Linda...|Friends, enemies,...|\n",
            "| tt3450356|      The Sex Awards|(2014 TV Special)|   7.1|        TV-MA|  72 min|         Adult, News| 74.0|           0|          nm6563445|          Doug Fresh|nm0236928,nm51908...|Jessica Drake,Ver...|Who will be crown...|\n",
            "| tt7630866|      Modern Romance|     (2017 Video)|   7.3|Not Certified| 103 min|      Adult, Romance| 28.0|           0|          nm1754477|       Holly Randall|nm8760098,nm62842...|Nancy Ace,August ...|          Add a Plot|\n",
            "| tt0329254|The Kama Sutra of...|     (1993 Video)|   2.9|      Unrated|  60 min|  Documentary, Adult| 25.0|           0|          nm1227435|        Horace Edgar|nm1228328,nm05989...|Mohinderjeet,Tony...|          Add a Plot|\n",
            "| tt7355200|           Virtualia|      (2001–2005)|   5.9|    Not Rated|  90 min| Adult, Crime, Drama| 25.0|           0|          Anonymous|           nm0000000|nm1111922,nm04131...|Lynn Stone,David ...|A nuclear war's r...|\n",
            "| tt9036972|Poland's Gay Shocker|           (2020)|   4.1|    Not Rated|  60 min|       Adult, Horror| 27.0|           0|         nm10077693|     Aaron Van Doren|nm12960738,nm1158...|Maciek Przewoznik...|Aaron Van Doren g...|\n",
            "| tt1753367|2010 AVN Awards Show|(2010 TV Special)|   7.1|        TV-MA|  32 min|         Adult, News| 60.0|           0|nm0279392,nm1624094|Bill Fisher,Gary ...|nm2670531,nm12675...|Asa Akira,Monique...|Stars of 2009's X...|\n",
            "| tt7982798|Secrétaires très ...|           (1980)|   5.1|Not Certified|  80 min|               Adult| 17.0|           0|          nm0881245|         Pierre Unia|nm0602167,nm15012...|Barbara Moose,Chr...|          Add a Plot|\n",
            "| tt8667436|Julia & Romeo - L...|     (2017 Video)|   4.1|Not Certified|  84 min|Action, Adult, Ad...| 37.0|           0|          nm1048572|      Jochen Taubert|nm0024652,nm11633...|Erich Amerkamp,He...|          Add a Plot|\n",
            "|tt13485126|Kyodai hiroin mug...|           (2016)|   6.1|Not Certified|   0 min|Action, Adult, Sc...| 26.0|           0|          nm8401687|     Masayoshi Shiki|nm12075289,nm8677...|Inu Akita,Kanako ...|A woman must sync...|\n",
            "|tt12668164|        L'educatrice|     (2007 Video)|   7.3|Not Certified| 170 min|Adult, Comedy, Ro...| 22.0|           0|          nm3904566|         Renzo Reggi|nm0194818,nm23254...|Milly D'Abbraccio...|Helena is a priva...|\n",
            "| tt3572256|2009 AVN Adult Mo...|(2009 TV Special)|   7.0|Not Certified|   0 min|         Adult, News| 14.0|           0|          nm0279392|         Bill Fisher|nm1267549,nm12091...|Monique Alexander...|          Add a Plot|\n",
            "| tt2939792|Die Rückkehr der ...|     (2013 Video)|   2.2|Not Certified|  35 min|Short, Adult, Comedy| 83.0|           0|          nm1048572|      Jochen Taubert|nm1065679,nm60018...|Thomas Kercmar,Ja...|          Add a Plot|\n",
            "|tt18555586|        Quiet on Set|     (2021 Video)|  11.0|Not Certified| 194 min|               Adult|    0|           0|         nm12055587|          Alex Roman|nm12479975,nm1346...|Eli Bennet,Tyler ...|          Add a Plot|\n",
            "+----------+--------------------+-----------------+------+-------------+--------+--------------------+-----+------------+-------------------+--------------------+--------------------+--------------------+--------------------+\n",
            "only showing top 20 rows\n",
            "\n"
          ]
        }
      ]
    },
    {
      "cell_type": "code",
      "source": [
        "# View number of non null values and columns in the data frame\n",
        "\n",
        "print((df.count(), len(df.columns)))"
      ],
      "metadata": {
        "colab": {
          "base_uri": "https://localhost:8080/"
        },
        "id": "pPDHakFfya-H",
        "outputId": "c4a71d53-64ce-417f-d68e-61eea37fc836"
      },
      "execution_count": null,
      "outputs": [
        {
          "output_type": "stream",
          "name": "stdout",
          "text": [
            "(2593384, 14)\n"
          ]
        }
      ]
    },
    {
      "cell_type": "code",
      "source": [
        "# View the names of columns of the dataframe\n",
        "\n",
        "df.columns"
      ],
      "metadata": {
        "colab": {
          "base_uri": "https://localhost:8080/"
        },
        "id": "MPbGkNftydGI",
        "outputId": "2df799f1-64c8-4198-f8d2-ffca90012180"
      },
      "execution_count": null,
      "outputs": [
        {
          "output_type": "execute_result",
          "data": {
            "text/plain": [
              "['id',\n",
              " 'name',\n",
              " 'year',\n",
              " 'rating',\n",
              " 'certificate',\n",
              " 'duration',\n",
              " 'genre',\n",
              " 'votes',\n",
              " 'gross_income',\n",
              " 'directors_id',\n",
              " 'directors_name',\n",
              " 'stars_id',\n",
              " 'stars_name',\n",
              " 'description']"
            ]
          },
          "metadata": {},
          "execution_count": 8
        }
      ]
    },
    {
      "cell_type": "code",
      "source": [
        "# View data types in the dataset\n",
        "\n",
        "df.printSchema()"
      ],
      "metadata": {
        "colab": {
          "base_uri": "https://localhost:8080/"
        },
        "id": "wm3eAvUjye7z",
        "outputId": "f2dc76da-2413-40a3-a24d-6c7b92ed603f"
      },
      "execution_count": null,
      "outputs": [
        {
          "output_type": "stream",
          "name": "stdout",
          "text": [
            "root\n",
            " |-- id: string (nullable = true)\n",
            " |-- name: string (nullable = true)\n",
            " |-- year: string (nullable = true)\n",
            " |-- rating: string (nullable = true)\n",
            " |-- certificate: string (nullable = true)\n",
            " |-- duration: string (nullable = true)\n",
            " |-- genre: string (nullable = true)\n",
            " |-- votes: string (nullable = true)\n",
            " |-- gross_income: string (nullable = true)\n",
            " |-- directors_id: string (nullable = true)\n",
            " |-- directors_name: string (nullable = true)\n",
            " |-- stars_id: string (nullable = true)\n",
            " |-- stars_name: string (nullable = true)\n",
            " |-- description: string (nullable = true)\n",
            "\n"
          ]
        }
      ]
    },
    {
      "cell_type": "code",
      "source": [
        "df.groupBy('genre').count().orderBy('count').show(10,False)"
      ],
      "metadata": {
        "colab": {
          "base_uri": "https://localhost:8080/"
        },
        "id": "h0EK1BVvyiJe",
        "outputId": "95627bf0-7c0f-40b5-b603-c8d90c157bfc"
      },
      "execution_count": null,
      "outputs": [
        {
          "output_type": "stream",
          "name": "stdout",
          "text": [
            "+-------------------------------+-----+\n",
            "|genre                          |count|\n",
            "+-------------------------------+-----+\n",
            "|Western, Crime, Short          |1    |\n",
            "|Crime, Short, Mystery          |1    |\n",
            "|Fantasy, War, Horror           |1    |\n",
            "|Horror, Action, Fantasy        |1    |\n",
            "|Documentary, History, Animation|1    |\n",
            "|Drama, Mystery, Horror         |1    |\n",
            "|Drama, Crime, Musical          |1    |\n",
            "|Horror, Short, Animation       |1    |\n",
            "|Thriller, Drama, History       |1    |\n",
            "|Crime, Documentary, Mystery    |1    |\n",
            "+-------------------------------+-----+\n",
            "only showing top 10 rows\n",
            "\n"
          ]
        }
      ]
    },
    {
      "cell_type": "markdown",
      "metadata": {
        "id": "hrfZhruYns5S"
      },
      "source": [
        "Missing Values"
      ]
    },
    {
      "cell_type": "code",
      "source": [
        "# As there are a total of 2593384 and roughly 2450 have missing values, this is a small percentage, less than 2% of missing data which should not largely impact the findings if deleted\n",
        "\n",
        "\n",
        "from pyspark.sql.functions import col, sum\n",
        "\n",
        "missing_values = df.select([sum(col(c).isNull().cast(\"int\")).alias(c) for c in df.columns])\n",
        "\n",
        "missing_values.show()"
      ],
      "metadata": {
        "colab": {
          "base_uri": "https://localhost:8080/"
        },
        "id": "fG3S_r6WyrIn",
        "outputId": "d1223c71-3033-4bdc-b24f-51244f63abf5"
      },
      "execution_count": null,
      "outputs": [
        {
          "output_type": "stream",
          "name": "stdout",
          "text": [
            "+---+----+----+------+-----------+--------+-----+-----+------------+------------+--------------+--------+----------+-----------+\n",
            "| id|name|year|rating|certificate|duration|genre|votes|gross_income|directors_id|directors_name|stars_id|stars_name|description|\n",
            "+---+----+----+------+-----------+--------+-----+-----+------------+------------+--------------+--------+----------+-----------+\n",
            "|  0|2294|2398|  2430|       2449|    2449| 2449| 2449|        2449|        2449|          2450|    2450|      2450|       2450|\n",
            "+---+----+----+------+-----------+--------+-----+-----+------------+------------+--------------+--------+----------+-----------+\n",
            "\n"
          ]
        }
      ]
    },
    {
      "cell_type": "code",
      "source": [
        "# Delete missing values within the dataset\n",
        "\n",
        "df_cleaned = df.dropna()\n",
        "df_cleaned.count()"
      ],
      "metadata": {
        "colab": {
          "base_uri": "https://localhost:8080/"
        },
        "id": "T6ygJzM8ytS9",
        "outputId": "96bdcc0a-06ea-4970-bf15-c32b4fe45fb7"
      },
      "execution_count": null,
      "outputs": [
        {
          "output_type": "execute_result",
          "data": {
            "text/plain": [
              "2590934"
            ]
          },
          "metadata": {},
          "execution_count": 12
        }
      ]
    },
    {
      "cell_type": "code",
      "source": [
        "# Check that all rows with missing values have been removed\n",
        "\n",
        "missing_values = df_cleaned.select([sum(col(c).isNull().cast(\"int\")).alias(c) for c in df_cleaned.columns])\n",
        "\n",
        "missing_values.show()"
      ],
      "metadata": {
        "colab": {
          "base_uri": "https://localhost:8080/"
        },
        "id": "oJqX6O-jyu7N",
        "outputId": "bfab7fad-f9d7-4220-93d7-bb4a5d4b6c99"
      },
      "execution_count": null,
      "outputs": [
        {
          "output_type": "stream",
          "name": "stdout",
          "text": [
            "+---+----+----+------+-----------+--------+-----+-----+------------+------------+--------------+--------+----------+-----------+\n",
            "| id|name|year|rating|certificate|duration|genre|votes|gross_income|directors_id|directors_name|stars_id|stars_name|description|\n",
            "+---+----+----+------+-----------+--------+-----+-----+------------+------------+--------------+--------+----------+-----------+\n",
            "|  0|   0|   0|     0|          0|       0|    0|    0|           0|           0|             0|       0|         0|          0|\n",
            "+---+----+----+------+-----------+--------+-----+-----+------------+------------+--------------+--------+----------+-----------+\n",
            "\n"
          ]
        }
      ]
    },
    {
      "cell_type": "code",
      "source": [
        "# Drop unecessary columns - the directors_name instead of directors id and stars_name instead of stars_id. They both represent the same thing.\n",
        "\n",
        "df2=df_cleaned.drop('id', 'directors_name', 'stars_name')\n",
        "df2.show(10)"
      ],
      "metadata": {
        "colab": {
          "base_uri": "https://localhost:8080/"
        },
        "id": "8Jiuklugyw09",
        "outputId": "a1a8d256-50d0-48d0-a2be-a6c31e26a329"
      },
      "execution_count": null,
      "outputs": [
        {
          "output_type": "stream",
          "name": "stdout",
          "text": [
            "+--------------------+-----------------+------+-------------+--------+--------------------+-----+------------+-------------------+--------------------+--------------------+\n",
            "|                name|             year|rating|  certificate|duration|               genre|votes|gross_income|       directors_id|            stars_id|         description|\n",
            "+--------------------+-----------------+------+-------------+--------+--------------------+-----+------------+-------------------+--------------------+--------------------+\n",
            "|Best in Sex: 2015...|(2015 TV Special)|   4.0|        TV-MA|  94 min|         Adult, News|124.0|           0|          nm1624094|nm4766272,nm26705...|The hottest adult...|\n",
            "|    Naughty Novelist|     (2008 Video)|   3.8|Not Certified|  88 min|               Adult|174.0|           0|          nm0045256|nm0128986,nm19691...|Darian is a succe...|\n",
            "|2011 AVN Awards Show|(2011 TV Special)|   5.7|Not Certified|  83 min|         Adult, News| 39.0|           0|nm1624094,nm0754845|nm2200343,nm26705...|          Add a Plot|\n",
            "|Best in Sex: 2017...|(2017 TV Special)|   4.9|        TV-MA|  87 min|         Adult, News|225.0|           0|          nm1624094|nm5221471,nm26705...|Considered the in...|\n",
            "|     AVN Awards 2014|(2014 TV Special)|   6.7|            R|  82 min|         Adult, News|101.0|           0|          nm1624094|nm2670531,nm49206...|Erotic filmmaking...|\n",
            "| Couples Guest House|         (2020– )|   6.0|Not Certified|   0 min|      Adult, Romance| 54.0|           0|          Anonymous|nm11750590,nm1175...|2 romantic couple...|\n",
            "|Wadd: The Life & ...|           (1999)|   6.8|        NC-17| 105 min|Documentary, Adul...|907.0|           0|          nm0256178|nm0001360,nm17206...|Friends, enemies,...|\n",
            "|      The Sex Awards|(2014 TV Special)|   7.1|        TV-MA|  72 min|         Adult, News| 74.0|           0|          nm6563445|nm0236928,nm51908...|Who will be crown...|\n",
            "|      Modern Romance|     (2017 Video)|   7.3|Not Certified| 103 min|      Adult, Romance| 28.0|           0|          nm1754477|nm8760098,nm62842...|          Add a Plot|\n",
            "|The Kama Sutra of...|     (1993 Video)|   2.9|      Unrated|  60 min|  Documentary, Adult| 25.0|           0|          nm1227435|nm1228328,nm05989...|          Add a Plot|\n",
            "+--------------------+-----------------+------+-------------+--------+--------------------+-----+------------+-------------------+--------------------+--------------------+\n",
            "only showing top 10 rows\n",
            "\n"
          ]
        }
      ]
    },
    {
      "cell_type": "code",
      "source": [
        "# Convert Columns 'rating','votes' and 'gross_income' to numerical format\n",
        "\n",
        "from pyspark.sql.functions import col\n",
        "df2 = df2.withColumn(\"ranking\", col(\"rating\").cast(\"double\"))\n",
        "df2 = df2.withColumn(\"public_vote\", col(\"votes\").cast(\"double\"))\n",
        "df2 = df2.withColumn(\"income\", col(\"gross_income\").cast(\"double\"))"
      ],
      "metadata": {
        "id": "aiHO7nJ7yzKx"
      },
      "execution_count": null,
      "outputs": []
    },
    {
      "cell_type": "code",
      "source": [
        "# View data types to check if the new columns with their new data types have been created\n",
        "\n",
        "df2.printSchema()"
      ],
      "metadata": {
        "colab": {
          "base_uri": "https://localhost:8080/"
        },
        "id": "CnQYL0dzy1nA",
        "outputId": "1a02a0c0-9ece-4412-aafa-85693329168d"
      },
      "execution_count": null,
      "outputs": [
        {
          "output_type": "stream",
          "name": "stdout",
          "text": [
            "root\n",
            " |-- name: string (nullable = true)\n",
            " |-- year: string (nullable = true)\n",
            " |-- rating: string (nullable = true)\n",
            " |-- certificate: string (nullable = true)\n",
            " |-- duration: string (nullable = true)\n",
            " |-- genre: string (nullable = true)\n",
            " |-- votes: string (nullable = true)\n",
            " |-- gross_income: string (nullable = true)\n",
            " |-- directors_id: string (nullable = true)\n",
            " |-- stars_id: string (nullable = true)\n",
            " |-- description: string (nullable = true)\n",
            " |-- ranking: double (nullable = true)\n",
            " |-- public_vote: double (nullable = true)\n",
            " |-- income: double (nullable = true)\n",
            "\n"
          ]
        }
      ]
    },
    {
      "cell_type": "code",
      "source": [
        "df3=df2.select('name','description','year','certificate','duration','genre','directors_id','stars_id','income','public_vote','ranking')\n",
        "df3.show()"
      ],
      "metadata": {
        "colab": {
          "base_uri": "https://localhost:8080/"
        },
        "id": "cM0n7vYny30w",
        "outputId": "374dd5bd-eff1-4931-d86c-758f2f6e1738"
      },
      "execution_count": null,
      "outputs": [
        {
          "output_type": "stream",
          "name": "stdout",
          "text": [
            "+--------------------+--------------------+-----------------+-------------+--------+--------------------+-------------------+--------------------+------+-----------+-------+\n",
            "|                name|         description|             year|  certificate|duration|               genre|       directors_id|            stars_id|income|public_vote|ranking|\n",
            "+--------------------+--------------------+-----------------+-------------+--------+--------------------+-------------------+--------------------+------+-----------+-------+\n",
            "|Best in Sex: 2015...|The hottest adult...|(2015 TV Special)|        TV-MA|  94 min|         Adult, News|          nm1624094|nm4766272,nm26705...|   0.0|      124.0|    4.0|\n",
            "|    Naughty Novelist|Darian is a succe...|     (2008 Video)|Not Certified|  88 min|               Adult|          nm0045256|nm0128986,nm19691...|   0.0|      174.0|    3.8|\n",
            "|2011 AVN Awards Show|          Add a Plot|(2011 TV Special)|Not Certified|  83 min|         Adult, News|nm1624094,nm0754845|nm2200343,nm26705...|   0.0|       39.0|    5.7|\n",
            "|Best in Sex: 2017...|Considered the in...|(2017 TV Special)|        TV-MA|  87 min|         Adult, News|          nm1624094|nm5221471,nm26705...|   0.0|      225.0|    4.9|\n",
            "|     AVN Awards 2014|Erotic filmmaking...|(2014 TV Special)|            R|  82 min|         Adult, News|          nm1624094|nm2670531,nm49206...|   0.0|      101.0|    6.7|\n",
            "| Couples Guest House|2 romantic couple...|         (2020– )|Not Certified|   0 min|      Adult, Romance|          Anonymous|nm11750590,nm1175...|   0.0|       54.0|    6.0|\n",
            "|Wadd: The Life & ...|Friends, enemies,...|           (1999)|        NC-17| 105 min|Documentary, Adul...|          nm0256178|nm0001360,nm17206...|   0.0|      907.0|    6.8|\n",
            "|      The Sex Awards|Who will be crown...|(2014 TV Special)|        TV-MA|  72 min|         Adult, News|          nm6563445|nm0236928,nm51908...|   0.0|       74.0|    7.1|\n",
            "|      Modern Romance|          Add a Plot|     (2017 Video)|Not Certified| 103 min|      Adult, Romance|          nm1754477|nm8760098,nm62842...|   0.0|       28.0|    7.3|\n",
            "|The Kama Sutra of...|          Add a Plot|     (1993 Video)|      Unrated|  60 min|  Documentary, Adult|          nm1227435|nm1228328,nm05989...|   0.0|       25.0|    2.9|\n",
            "|           Virtualia|A nuclear war's r...|      (2001–2005)|    Not Rated|  90 min| Adult, Crime, Drama|          Anonymous|nm1111922,nm04131...|   0.0|       25.0|    5.9|\n",
            "|Poland's Gay Shocker|Aaron Van Doren g...|           (2020)|    Not Rated|  60 min|       Adult, Horror|         nm10077693|nm12960738,nm1158...|   0.0|       27.0|    4.1|\n",
            "|2010 AVN Awards Show|Stars of 2009's X...|(2010 TV Special)|        TV-MA|  32 min|         Adult, News|nm0279392,nm1624094|nm2670531,nm12675...|   0.0|       60.0|    7.1|\n",
            "|Secrétaires très ...|          Add a Plot|           (1980)|Not Certified|  80 min|               Adult|          nm0881245|nm0602167,nm15012...|   0.0|       17.0|    5.1|\n",
            "|Julia & Romeo - L...|          Add a Plot|     (2017 Video)|Not Certified|  84 min|Action, Adult, Ad...|          nm1048572|nm0024652,nm11633...|   0.0|       37.0|    4.1|\n",
            "|Kyodai hiroin mug...|A woman must sync...|           (2016)|Not Certified|   0 min|Action, Adult, Sc...|          nm8401687|nm12075289,nm8677...|   0.0|       26.0|    6.1|\n",
            "|        L'educatrice|Helena is a priva...|     (2007 Video)|Not Certified| 170 min|Adult, Comedy, Ro...|          nm3904566|nm0194818,nm23254...|   0.0|       22.0|    7.3|\n",
            "|2009 AVN Adult Mo...|          Add a Plot|(2009 TV Special)|Not Certified|   0 min|         Adult, News|          nm0279392|nm1267549,nm12091...|   0.0|       14.0|    7.0|\n",
            "|Die Rückkehr der ...|          Add a Plot|     (2013 Video)|Not Certified|  35 min|Short, Adult, Comedy|          nm1048572|nm1065679,nm60018...|   0.0|       83.0|    2.2|\n",
            "|        Quiet on Set|          Add a Plot|     (2021 Video)|Not Certified| 194 min|               Adult|         nm12055587|nm12479975,nm1346...|   0.0|        0.0|   11.0|\n",
            "+--------------------+--------------------+-----------------+-------------+--------+--------------------+-------------------+--------------------+------+-----------+-------+\n",
            "only showing top 20 rows\n",
            "\n"
          ]
        }
      ]
    },
    {
      "cell_type": "markdown",
      "source": [
        "String Indexer"
      ],
      "metadata": {
        "id": "NOQDi0IHy6E2"
      }
    },
    {
      "cell_type": "code",
      "source": [
        "# Convert all categorical data columns into numerical format\n",
        "\n",
        "from pyspark.ml.feature import StringIndexer\n",
        "\n",
        "indexer = StringIndexer(inputCol = 'certificate', outputCol = 'certified')\n",
        "indexer2 = StringIndexer(inputCol = 'genre', outputCol = 'movie_genre')\n",
        "indexer3 = StringIndexer(inputCol = 'duration', outputCol = 'movie_length')\n",
        "indexer4 = StringIndexer(inputCol = 'directors_id', outputCol = 'directors')\n",
        "indexer5 = StringIndexer(inputCol = 'stars_id', outputCol = 'stars')\n",
        "indexer6 = StringIndexer(inputCol = 'year', outputCol = 'date')\n",
        "df3 = indexer.fit(df3).transform(df3)\n",
        "df3 = indexer2.fit(df3).transform(df3)\n",
        "df3 = indexer3.fit(df3).transform(df3)\n",
        "df3 = indexer4.fit(df3).transform(df3)\n",
        "df3 = indexer5.fit(df3).transform(df3)\n",
        "df3 = indexer6.fit(df3).transform(df3)\n",
        "df3.show(10)"
      ],
      "metadata": {
        "colab": {
          "base_uri": "https://localhost:8080/"
        },
        "id": "V-5VzUW-zBWv",
        "outputId": "b0e385a6-6cfa-46a4-8794-a040c0cac994"
      },
      "execution_count": null,
      "outputs": [
        {
          "output_type": "stream",
          "name": "stdout",
          "text": [
            "+--------------------+--------------------+-----------------+-------------+--------+--------------------+-------------------+--------------------+------+-----------+-------+---------+-----------+------------+---------+---------+-----+\n",
            "|                name|         description|             year|  certificate|duration|               genre|       directors_id|            stars_id|income|public_vote|ranking|certified|movie_genre|movie_length|directors|    stars| date|\n",
            "+--------------------+--------------------+-----------------+-------------+--------+--------------------+-------------------+--------------------+------+-----------+-------+---------+-----------+------------+---------+---------+-----+\n",
            "|Best in Sex: 2015...|The hottest adult...|(2015 TV Special)|        TV-MA|  94 min|         Adult, News|          nm1624094|nm4766272,nm26705...|   0.0|      124.0|    4.0|      4.0|     1870.0|        64.0|  65067.0| 865645.0|573.0|\n",
            "|    Naughty Novelist|Darian is a succe...|     (2008 Video)|Not Certified|  88 min|               Adult|          nm0045256|nm0128986,nm19691...|   0.0|      174.0|    3.8|      0.0|     1420.0|        50.0|   9342.0| 228355.0|153.0|\n",
            "|2011 AVN Awards Show|          Add a Plot|(2011 TV Special)|Not Certified|  83 min|         Adult, News|nm1624094,nm0754845|nm2200343,nm26705...|   0.0|       39.0|    5.7|      0.0|     1870.0|        67.0| 319959.0| 704486.0|580.0|\n",
            "|Best in Sex: 2017...|Considered the in...|(2017 TV Special)|        TV-MA|  87 min|         Adult, News|          nm1624094|nm5221471,nm26705...|   0.0|      225.0|    4.9|      4.0|     1870.0|        55.0|  65067.0| 889253.0|563.0|\n",
            "|     AVN Awards 2014|Erotic filmmaking...|(2014 TV Special)|            R|  82 min|         Adult, News|          nm1624094|nm2670531,nm49206...|   0.0|      101.0|    6.7|      9.0|     1870.0|        68.0|  65067.0| 738648.0|579.0|\n",
            "| Couples Guest House|2 romantic couple...|         (2020– )|Not Certified|   0 min|      Adult, Romance|          Anonymous|nm11750590,nm1175...|   0.0|       54.0|    6.0|      0.0|     2227.0|         0.0|      0.0| 547837.0|  4.0|\n",
            "|Wadd: The Life & ...|Friends, enemies,...|           (1999)|        NC-17| 105 min|Documentary, Adul...|          nm0256178|nm0001360,nm17206...|   0.0|      907.0|    6.8|     30.0|     2959.0|        72.0|  59482.0| 132068.0|106.0|\n",
            "|      The Sex Awards|Who will be crown...|(2014 TV Special)|        TV-MA|  72 min|         Adult, News|          nm6563445|nm0236928,nm51908...|   0.0|       74.0|    7.1|      4.0|     1870.0|        82.0| 395279.0| 267272.0|579.0|\n",
            "|      Modern Romance|          Add a Plot|     (2017 Video)|Not Certified| 103 min|      Adult, Romance|          nm1754477|nm8760098,nm62842...|   0.0|       28.0|    7.3|      0.0|     2227.0|        93.0| 322558.0|1029019.0|114.0|\n",
            "|The Kama Sutra of...|          Add a Plot|     (1993 Video)|      Unrated|  60 min|  Documentary, Adult|          nm1227435|nm1228328,nm05989...|   0.0|       25.0|    2.9|     12.0|     2958.0|         4.0| 303983.0| 569421.0|673.0|\n",
            "+--------------------+--------------------+-----------------+-------------+--------+--------------------+-------------------+--------------------+------+-----------+-------+---------+-----------+------------+---------+---------+-----+\n",
            "only showing top 10 rows\n",
            "\n"
          ]
        }
      ]
    },
    {
      "cell_type": "code",
      "source": [
        "# Select all string indexed columns into a new dataframe\n",
        "\n",
        "df4=df3.select('name','description','date','certified','movie_length','movie_genre','directors','stars','income','public_vote','ranking')\n",
        "df4.show()"
      ],
      "metadata": {
        "colab": {
          "base_uri": "https://localhost:8080/"
        },
        "id": "fyPe-6sRzFob",
        "outputId": "08dedc8e-0f47-47c8-e93c-edd3d2c4f03a"
      },
      "execution_count": null,
      "outputs": [
        {
          "output_type": "stream",
          "name": "stdout",
          "text": [
            "+--------------------+--------------------+-----+---------+------------+-----------+---------+---------+------+-----------+-------+\n",
            "|                name|         description| date|certified|movie_length|movie_genre|directors|    stars|income|public_vote|ranking|\n",
            "+--------------------+--------------------+-----+---------+------------+-----------+---------+---------+------+-----------+-------+\n",
            "|Best in Sex: 2015...|The hottest adult...|573.0|      4.0|        64.0|     1870.0|  65067.0| 865645.0|   0.0|      124.0|    4.0|\n",
            "|    Naughty Novelist|Darian is a succe...|153.0|      0.0|        50.0|     1420.0|   9342.0| 228355.0|   0.0|      174.0|    3.8|\n",
            "|2011 AVN Awards Show|          Add a Plot|580.0|      0.0|        67.0|     1870.0| 319959.0| 704486.0|   0.0|       39.0|    5.7|\n",
            "|Best in Sex: 2017...|Considered the in...|563.0|      4.0|        55.0|     1870.0|  65067.0| 889253.0|   0.0|      225.0|    4.9|\n",
            "|     AVN Awards 2014|Erotic filmmaking...|579.0|      9.0|        68.0|     1870.0|  65067.0| 738648.0|   0.0|      101.0|    6.7|\n",
            "| Couples Guest House|2 romantic couple...|  4.0|      0.0|         0.0|     2227.0|      0.0| 547837.0|   0.0|       54.0|    6.0|\n",
            "|Wadd: The Life & ...|Friends, enemies,...|106.0|     30.0|        72.0|     2959.0|  59482.0| 132068.0|   0.0|      907.0|    6.8|\n",
            "|      The Sex Awards|Who will be crown...|579.0|      4.0|        82.0|     1870.0| 395279.0| 267272.0|   0.0|       74.0|    7.1|\n",
            "|      Modern Romance|          Add a Plot|114.0|      0.0|        93.0|     2227.0| 322558.0|1029019.0|   0.0|       28.0|    7.3|\n",
            "|The Kama Sutra of...|          Add a Plot|673.0|     12.0|         4.0|     2958.0| 303983.0| 569421.0|   0.0|       25.0|    2.9|\n",
            "|           Virtualia|A nuclear war's r...|410.0|      5.0|        11.0|     2767.0|      0.0| 519737.0|   0.0|       25.0|    5.9|\n",
            "|Poland's Gay Shocker|Aaron Van Doren g...| 23.0|      5.0|         4.0|     2768.0|  96258.0| 592534.0|   0.0|       27.0|    4.1|\n",
            "|2010 AVN Awards Show|Stars of 2009's X...|623.0|      4.0|        90.0|     1870.0| 264035.0| 738647.0|   0.0|       60.0|    7.1|\n",
            "|Secrétaires très ...|          Add a Plot|184.0|      0.0|        47.0|     1420.0| 280679.0| 375082.0|   0.0|       17.0|    5.1|\n",
            "|Julia & Romeo - L...|          Add a Plot|114.0|      0.0|        63.0|     2722.0|   9552.0| 171556.0|   0.0|       37.0|    4.1|\n",
            "|Kyodai hiroin mug...|A woman must sync...| 21.0|      0.0|         0.0|     2723.0| 413682.0| 561168.0|   0.0|       26.0|    6.1|\n",
            "|        L'educatrice|Helena is a priva...|159.0|      0.0|       156.0|     2766.0| 358114.0| 254221.0|   0.0|       22.0|    7.3|\n",
            "|2009 AVN Adult Mo...|          Add a Plot|652.0|      0.0|         0.0|     1870.0|  90959.0| 583176.0|   0.0|       14.0|    7.0|\n",
            "|Die Rückkehr der ...|          Add a Plot|147.0|      0.0|        77.0|     3331.0|   9552.0| 498222.0|   0.0|       83.0|    2.2|\n",
            "|        Quiet on Set|          Add a Plot| 96.0|      0.0|       204.0|     1420.0|  99400.0| 576774.0|   0.0|        0.0|   11.0|\n",
            "+--------------------+--------------------+-----+---------+------------+-----------+---------+---------+------+-----------+-------+\n",
            "only showing top 20 rows\n",
            "\n"
          ]
        }
      ]
    },
    {
      "cell_type": "code",
      "source": [
        "# Starting with tokenization of the two text columns to split the text into individual words/tokens\n",
        "\n",
        "from pyspark.ml.feature import Tokenizer\n",
        "tokenization=Tokenizer(inputCol='name',outputCol='title')\n",
        "tokenization2=Tokenizer(inputCol='description',outputCol='summary')\n",
        "tokenized_df2 = tokenization.transform(df4)\n",
        "tokenized_df2 = tokenization2.transform(tokenized_df2)\n",
        "tokenized_df2.show(4,False)"
      ],
      "metadata": {
        "colab": {
          "base_uri": "https://localhost:8080/"
        },
        "id": "x9n94JNFzGJK",
        "outputId": "866e2a3f-edfb-45b1-ccca-e82595b8fd07"
      },
      "execution_count": null,
      "outputs": [
        {
          "output_type": "stream",
          "name": "stdout",
          "text": [
            "+----------------------------+-----------------------------------------------------------------------------------------------------------------------------------------------------------------------------------------------------------------------------------------+-----+---------+------------+-----------+---------+--------+------+-----------+-------+-----------------------------------+------------------------------------------------------------------------------------------------------------------------------------------------------------------------------------------------------------------------------------------------------------------------------------+\n",
            "|name                        |description                                                                                                                                                                                                                              |date |certified|movie_length|movie_genre|directors|stars   |income|public_vote|ranking|title                              |summary                                                                                                                                                                                                                                                                             |\n",
            "+----------------------------+-----------------------------------------------------------------------------------------------------------------------------------------------------------------------------------------------------------------------------------------+-----+---------+------------+-----------+---------+--------+------+-----------+-------+-----------------------------------+------------------------------------------------------------------------------------------------------------------------------------------------------------------------------------------------------------------------------------------------------------------------------------+\n",
            "|Best in Sex: 2015 AVN Awards|The hottest adult stars and top adult movies are celebrated at this awards ceremony at the Hard Rock Hotel & Casino in Las Vegas, where everything from Best Big Bust Release, Best Celebrity Sex Tape and Best Orgy are paid tribute to.|573.0|4.0      |64.0        |1870.0     |65067.0  |865645.0|0.0   |124.0      |4.0    |[best, in, sex:, 2015, avn, awards]|[the, hottest, adult, stars, and, top, adult, movies, are, celebrated, at, this, awards, ceremony, at, the, hard, rock, hotel, &, casino, in, las, vegas,, where, everything, from, best, big, bust, release,, best, celebrity, sex, tape, and, best, orgy, are, paid, tribute, to.]|\n",
            "|Naughty Novelist            |Darian is a successful journalist but when she moves to a new town she starts looking for work. When she answers an ad in the local paper she finds the job is writing lesbian erotica and its not long before fantasy becomes reality.  |153.0|0.0      |50.0        |1420.0     |9342.0   |228355.0|0.0   |174.0      |3.8    |[naughty, novelist]                |[darian, is, a, successful, journalist, but, when, she, moves, to, a, new, town, she, starts, looking, for, work., when, she, answers, an, ad, in, the, local, paper, she, finds, the, job, is, writing, lesbian, erotica, and, its, not, long, before, fantasy, becomes, reality.] |\n",
            "|2011 AVN Awards Show        |Add a Plot                                                                                                                                                                                                                               |580.0|0.0      |67.0        |1870.0     |319959.0 |704486.0|0.0   |39.0       |5.7    |[2011, avn, awards, show]          |[add, a, plot]                                                                                                                                                                                                                                                                      |\n",
            "|Best in Sex: 2017 AVN Awards|Considered the industry's highest honor, the AVN Awards celebrates outstanding achievements in the world of adult entertainment in categories that recognize performers, directors, retailers...                See full summary »       |563.0|4.0      |55.0        |1870.0     |65067.0  |889253.0|0.0   |225.0      |4.9    |[best, in, sex:, 2017, avn, awards]|[considered, the, industry's, highest, honor,, the, avn, awards, celebrates, outstanding, achievements, in, the, world, of, adult, entertainment, in, categories, that, recognize, performers,, directors,, retailers..., , , , , , , , , , , , , , , , see, full, summary »]       |\n",
            "+----------------------------+-----------------------------------------------------------------------------------------------------------------------------------------------------------------------------------------------------------------------------------------+-----+---------+------------+-----------+---------+--------+------+-----------+-------+-----------------------------------+------------------------------------------------------------------------------------------------------------------------------------------------------------------------------------------------------------------------------------------------------------------------------------+\n",
            "only showing top 4 rows\n",
            "\n"
          ]
        }
      ]
    },
    {
      "cell_type": "code",
      "source": [
        "# This has now removed stop words such as the, and, in from both 'summary' and 'title' columns and outputted into new columns 'refined_summary' and 'refined_title'\n",
        "\n",
        "from pyspark.ml.feature import StopWordsRemover\n",
        "\n",
        "stopword_removal=StopWordsRemover(inputCol='title',outputCol='refined_title')\n",
        "stopword_removal2=StopWordsRemover(inputCol='summary',outputCol='refined_summary')\n",
        "refined_df2=stopword_removal.transform(tokenized_df2)\n",
        "refined_df2=stopword_removal2.transform(refined_df2)\n",
        "\n",
        "refined_df2.show(10,False)"
      ],
      "metadata": {
        "colab": {
          "base_uri": "https://localhost:8080/"
        },
        "id": "zChVa2ZizKMd",
        "outputId": "89adaa0a-aebd-448b-fd78-4b021fb3c684"
      },
      "execution_count": null,
      "outputs": [
        {
          "output_type": "stream",
          "name": "stdout",
          "text": [
            "+----------------------------------------+-----------------------------------------------------------------------------------------------------------------------------------------------------------------------------------------------------------------------------------------+-----+---------+------------+-----------+---------+---------+------+-----------+-------+--------------------------------------------------+--------------------------------------------------------------------------------------------------------------------------------------------------------------------------------------------------------------------------------------------------------------------------------------+-----------------------------------------+--------------------------------------------------------------------------------------------------------------------------------------------------------------------------------------------------------------------------------------------+\n",
            "|name                                    |description                                                                                                                                                                                                                              |date |certified|movie_length|movie_genre|directors|stars    |income|public_vote|ranking|title                                             |summary                                                                                                                                                                                                                                                                               |refined_title                            |refined_summary                                                                                                                                                                                                                             |\n",
            "+----------------------------------------+-----------------------------------------------------------------------------------------------------------------------------------------------------------------------------------------------------------------------------------------+-----+---------+------------+-----------+---------+---------+------+-----------+-------+--------------------------------------------------+--------------------------------------------------------------------------------------------------------------------------------------------------------------------------------------------------------------------------------------------------------------------------------------+-----------------------------------------+--------------------------------------------------------------------------------------------------------------------------------------------------------------------------------------------------------------------------------------------+\n",
            "|Best in Sex: 2015 AVN Awards            |The hottest adult stars and top adult movies are celebrated at this awards ceremony at the Hard Rock Hotel & Casino in Las Vegas, where everything from Best Big Bust Release, Best Celebrity Sex Tape and Best Orgy are paid tribute to.|573.0|4.0      |64.0        |1870.0     |65067.0  |865645.0 |0.0   |124.0      |4.0    |[best, in, sex:, 2015, avn, awards]               |[the, hottest, adult, stars, and, top, adult, movies, are, celebrated, at, this, awards, ceremony, at, the, hard, rock, hotel, &, casino, in, las, vegas,, where, everything, from, best, big, bust, release,, best, celebrity, sex, tape, and, best, orgy, are, paid, tribute, to.]  |[best, sex:, 2015, avn, awards]          |[hottest, adult, stars, top, adult, movies, celebrated, awards, ceremony, hard, rock, hotel, &, casino, las, vegas,, everything, best, big, bust, release,, best, celebrity, sex, tape, best, orgy, paid, tribute, to.]                     |\n",
            "|Naughty Novelist                        |Darian is a successful journalist but when she moves to a new town she starts looking for work. When she answers an ad in the local paper she finds the job is writing lesbian erotica and its not long before fantasy becomes reality.  |153.0|0.0      |50.0        |1420.0     |9342.0   |228355.0 |0.0   |174.0      |3.8    |[naughty, novelist]                               |[darian, is, a, successful, journalist, but, when, she, moves, to, a, new, town, she, starts, looking, for, work., when, she, answers, an, ad, in, the, local, paper, she, finds, the, job, is, writing, lesbian, erotica, and, its, not, long, before, fantasy, becomes, reality.]   |[naughty, novelist]                      |[darian, successful, journalist, moves, new, town, starts, looking, work., answers, ad, local, paper, finds, job, writing, lesbian, erotica, long, fantasy, becomes, reality.]                                                              |\n",
            "|2011 AVN Awards Show                    |Add a Plot                                                                                                                                                                                                                               |580.0|0.0      |67.0        |1870.0     |319959.0 |704486.0 |0.0   |39.0       |5.7    |[2011, avn, awards, show]                         |[add, a, plot]                                                                                                                                                                                                                                                                        |[2011, avn, awards, show]                |[add, plot]                                                                                                                                                                                                                                 |\n",
            "|Best in Sex: 2017 AVN Awards            |Considered the industry's highest honor, the AVN Awards celebrates outstanding achievements in the world of adult entertainment in categories that recognize performers, directors, retailers...                See full summary »       |563.0|4.0      |55.0        |1870.0     |65067.0  |889253.0 |0.0   |225.0      |4.9    |[best, in, sex:, 2017, avn, awards]               |[considered, the, industry's, highest, honor,, the, avn, awards, celebrates, outstanding, achievements, in, the, world, of, adult, entertainment, in, categories, that, recognize, performers,, directors,, retailers..., , , , , , , , , , , , , , , , see, full, summary »]         |[best, sex:, 2017, avn, awards]          |[considered, industry's, highest, honor,, avn, awards, celebrates, outstanding, achievements, world, adult, entertainment, categories, recognize, performers,, directors,, retailers..., , , , , , , , , , , , , , , , see, full, summary »]|\n",
            "|AVN Awards 2014                         |Erotic filmmaking superstars Chanel Preston and Samantha Saint host the 31st annual adult movie awards from The Joint at the Hard Rock Hotel and Casino in Las Vegas, honoring the best work ...                See full summary »       |579.0|9.0      |68.0        |1870.0     |65067.0  |738648.0 |0.0   |101.0      |6.7    |[avn, awards, 2014]                               |[erotic, filmmaking, superstars, chanel, preston, and, samantha, saint, host, the, 31st, annual, adult, movie, awards, from, the, joint, at, the, hard, rock, hotel, and, casino, in, las, vegas,, honoring, the, best, work, ..., , , , , , , , , , , , , , , , see, full, summary »]|[avn, awards, 2014]                      |[erotic, filmmaking, superstars, chanel, preston, samantha, saint, host, 31st, annual, adult, movie, awards, joint, hard, rock, hotel, casino, las, vegas,, honoring, best, work, ..., , , , , , , , , , , , , , , , see, full, summary »]  |\n",
            "|Couples Guest House                     |2 romantic couples moves out for a trip and stay at Couples Guest House. The romance-filled story turns upside down and become a nightmare.                                                                                              |4.0  |0.0      |0.0         |2227.0     |0.0      |547837.0 |0.0   |54.0       |6.0    |[couples, guest, house]                           |[2, romantic, couples, moves, out, for, a, trip, and, stay, at, couples, guest, house., the, romance-filled, story, turns, upside, down, and, become, a, nightmare.]                                                                                                                  |[couples, guest, house]                  |[2, romantic, couples, moves, trip, stay, couples, guest, house., romance-filled, story, turns, upside, become, nightmare.]                                                                                                                 |\n",
            "|Wadd: The Life & Times of John C. Holmes|Friends, enemies, acquaintances, and family of porn star John Holmes recall their experiences with him, from his childhood to his eventual death from AIDS in 1988.                                                                      |106.0|30.0     |72.0        |2959.0     |59482.0  |132068.0 |0.0   |907.0      |6.8    |[wadd:, the, life, &, times, of, john, c., holmes]|[friends,, enemies,, acquaintances,, and, family, of, porn, star, john, holmes, recall, their, experiences, with, him,, from, his, childhood, to, his, eventual, death, from, aids, in, 1988.]                                                                                        |[wadd:, life, &, times, john, c., holmes]|[friends,, enemies,, acquaintances,, family, porn, star, john, holmes, recall, experiences, him,, childhood, eventual, death, aids, 1988.]                                                                                                  |\n",
            "|The Sex Awards                          |Who will be crowned the first Porn Star of the Year? In the first fan-voted award show to be shown on television this behind-the-scenes look at the lives of the major porn stars provides ...                See full summary »         |579.0|4.0      |82.0        |1870.0     |395279.0 |267272.0 |0.0   |74.0       |7.1    |[the, sex, awards]                                |[who, will, be, crowned, the, first, porn, star, of, the, year?, in, the, first, fan-voted, award, show, to, be, shown, on, television, this, behind-the-scenes, look, at, the, lives, of, the, major, porn, stars, provides, ..., , , , , , , , , , , , , , , , see, full, summary »]|[sex, awards]                            |[crowned, first, porn, star, year?, first, fan-voted, award, show, shown, television, behind-the-scenes, look, lives, major, porn, stars, provides, ..., , , , , , , , , , , , , , , , see, full, summary »]                                |\n",
            "|Modern Romance                          |Add a Plot                                                                                                                                                                                                                               |114.0|0.0      |93.0        |2227.0     |322558.0 |1029019.0|0.0   |28.0       |7.3    |[modern, romance]                                 |[add, a, plot]                                                                                                                                                                                                                                                                        |[modern, romance]                        |[add, plot]                                                                                                                                                                                                                                 |\n",
            "|The Kama Sutra of Vatsyayana            |Add a Plot                                                                                                                                                                                                                               |673.0|12.0     |4.0         |2958.0     |303983.0 |569421.0 |0.0   |25.0       |2.9    |[the, kama, sutra, of, vatsyayana]                |[add, a, plot]                                                                                                                                                                                                                                                                        |[kama, sutra, vatsyayana]                |[add, plot]                                                                                                                                                                                                                                 |\n",
            "+----------------------------------------+-----------------------------------------------------------------------------------------------------------------------------------------------------------------------------------------------------------------------------------------+-----+---------+------------+-----------+---------+---------+------+-----------+-------+--------------------------------------------------+--------------------------------------------------------------------------------------------------------------------------------------------------------------------------------------------------------------------------------------------------------------------------------------+-----------------------------------------+--------------------------------------------------------------------------------------------------------------------------------------------------------------------------------------------------------------------------------------------+\n",
            "only showing top 10 rows\n",
            "\n"
          ]
        }
      ]
    },
    {
      "cell_type": "code",
      "source": [
        "import nltk\n",
        "nltk.download('wordnet')"
      ],
      "metadata": {
        "colab": {
          "base_uri": "https://localhost:8080/"
        },
        "id": "skBrPtJFzS7E",
        "outputId": "7d8125df-b88d-4dad-cb7c-e65784f4d483"
      },
      "execution_count": null,
      "outputs": [
        {
          "output_type": "stream",
          "name": "stderr",
          "text": [
            "[nltk_data] Downloading package wordnet to /root/nltk_data...\n"
          ]
        },
        {
          "output_type": "execute_result",
          "data": {
            "text/plain": [
              "True"
            ]
          },
          "metadata": {},
          "execution_count": 22
        }
      ]
    },
    {
      "cell_type": "code",
      "source": [
        "# Tidy up the text by using lemmatizer to reduce words to their base form\n",
        "\n",
        "from pyspark.sql.functions import udf\n",
        "from pyspark.sql.types import ArrayType, StringType\n",
        "from nltk.stem import WordNetLemmatizer\n",
        "\n",
        "\n",
        "def lemmatize_text(tokens):\n",
        "    lemmatizer = WordNetLemmatizer()\n",
        "    lemmas = [lemmatizer.lemmatize(token) for token in tokens]\n",
        "    return lemmas\n",
        "\n",
        "\n",
        "lemmatize_udf = udf(lemmatize_text, ArrayType(StringType()))\n",
        "\n",
        "# Apply lemmatization using the User Defined Function\n",
        "refined_df2 = refined_df2.withColumn(\"lemmatized_title\", lemmatize_udf(\"refined_title\"))\n",
        "refined_df2 = refined_df2.withColumn(\"lemmatized_summary\", lemmatize_udf(\"refined_summary\"))\n",
        "\n",
        "# View the resulting Dataframe\n",
        "refined_df2.show(truncate=False)\n",
        "\n"
      ],
      "metadata": {
        "colab": {
          "base_uri": "https://localhost:8080/"
        },
        "id": "LMgnqDm-zVo2",
        "outputId": "4bb5288e-01b6-4620-fbb2-bac081aefb23"
      },
      "execution_count": null,
      "outputs": [
        {
          "output_type": "stream",
          "name": "stdout",
          "text": [
            "+----------------------------------------------------+-----------------------------------------------------------------------------------------------------------------------------------------------------------------------------------------------------------------------------------------+-----+---------+------------+-----------+---------+---------+------+-----------+-------+--------------------------------------------------------------+--------------------------------------------------------------------------------------------------------------------------------------------------------------------------------------------------------------------------------------------------------------------------------------+--------------------------------------------------------------+--------------------------------------------------------------------------------------------------------------------------------------------------------------------------------------------------------------------------------------------+-------------------------------------------------------------+----------------------------------------------------------------------------------------------------------------------------------------------------------------------------------------------------------------------------------------+\n",
            "|name                                                |description                                                                                                                                                                                                                              |date |certified|movie_length|movie_genre|directors|stars    |income|public_vote|ranking|title                                                         |summary                                                                                                                                                                                                                                                                               |refined_title                                                 |refined_summary                                                                                                                                                                                                                             |lemmatized_title                                             |lemmatized_summary                                                                                                                                                                                                                      |\n",
            "+----------------------------------------------------+-----------------------------------------------------------------------------------------------------------------------------------------------------------------------------------------------------------------------------------------+-----+---------+------------+-----------+---------+---------+------+-----------+-------+--------------------------------------------------------------+--------------------------------------------------------------------------------------------------------------------------------------------------------------------------------------------------------------------------------------------------------------------------------------+--------------------------------------------------------------+--------------------------------------------------------------------------------------------------------------------------------------------------------------------------------------------------------------------------------------------+-------------------------------------------------------------+----------------------------------------------------------------------------------------------------------------------------------------------------------------------------------------------------------------------------------------+\n",
            "|Best in Sex: 2015 AVN Awards                        |The hottest adult stars and top adult movies are celebrated at this awards ceremony at the Hard Rock Hotel & Casino in Las Vegas, where everything from Best Big Bust Release, Best Celebrity Sex Tape and Best Orgy are paid tribute to.|573.0|4.0      |64.0        |1870.0     |65067.0  |865645.0 |0.0   |124.0      |4.0    |[best, in, sex:, 2015, avn, awards]                           |[the, hottest, adult, stars, and, top, adult, movies, are, celebrated, at, this, awards, ceremony, at, the, hard, rock, hotel, &, casino, in, las, vegas,, where, everything, from, best, big, bust, release,, best, celebrity, sex, tape, and, best, orgy, are, paid, tribute, to.]  |[best, sex:, 2015, avn, awards]                               |[hottest, adult, stars, top, adult, movies, celebrated, awards, ceremony, hard, rock, hotel, &, casino, las, vegas,, everything, best, big, bust, release,, best, celebrity, sex, tape, best, orgy, paid, tribute, to.]                     |[best, sex:, 2015, avn, award]                               |[hottest, adult, star, top, adult, movie, celebrated, award, ceremony, hard, rock, hotel, &, casino, la, vegas,, everything, best, big, bust, release,, best, celebrity, sex, tape, best, orgy, paid, tribute, to.]                     |\n",
            "|Naughty Novelist                                    |Darian is a successful journalist but when she moves to a new town she starts looking for work. When she answers an ad in the local paper she finds the job is writing lesbian erotica and its not long before fantasy becomes reality.  |153.0|0.0      |50.0        |1420.0     |9342.0   |228355.0 |0.0   |174.0      |3.8    |[naughty, novelist]                                           |[darian, is, a, successful, journalist, but, when, she, moves, to, a, new, town, she, starts, looking, for, work., when, she, answers, an, ad, in, the, local, paper, she, finds, the, job, is, writing, lesbian, erotica, and, its, not, long, before, fantasy, becomes, reality.]   |[naughty, novelist]                                           |[darian, successful, journalist, moves, new, town, starts, looking, work., answers, ad, local, paper, finds, job, writing, lesbian, erotica, long, fantasy, becomes, reality.]                                                              |[naughty, novelist]                                          |[darian, successful, journalist, move, new, town, start, looking, work., answer, ad, local, paper, find, job, writing, lesbian, erotica, long, fantasy, becomes, reality.]                                                              |\n",
            "|2011 AVN Awards Show                                |Add a Plot                                                                                                                                                                                                                               |580.0|0.0      |67.0        |1870.0     |319959.0 |704486.0 |0.0   |39.0       |5.7    |[2011, avn, awards, show]                                     |[add, a, plot]                                                                                                                                                                                                                                                                        |[2011, avn, awards, show]                                     |[add, plot]                                                                                                                                                                                                                                 |[2011, avn, award, show]                                     |[add, plot]                                                                                                                                                                                                                             |\n",
            "|Best in Sex: 2017 AVN Awards                        |Considered the industry's highest honor, the AVN Awards celebrates outstanding achievements in the world of adult entertainment in categories that recognize performers, directors, retailers...                See full summary »       |563.0|4.0      |55.0        |1870.0     |65067.0  |889253.0 |0.0   |225.0      |4.9    |[best, in, sex:, 2017, avn, awards]                           |[considered, the, industry's, highest, honor,, the, avn, awards, celebrates, outstanding, achievements, in, the, world, of, adult, entertainment, in, categories, that, recognize, performers,, directors,, retailers..., , , , , , , , , , , , , , , , see, full, summary »]         |[best, sex:, 2017, avn, awards]                               |[considered, industry's, highest, honor,, avn, awards, celebrates, outstanding, achievements, world, adult, entertainment, categories, recognize, performers,, directors,, retailers..., , , , , , , , , , , , , , , , see, full, summary »]|[best, sex:, 2017, avn, award]                               |[considered, industry's, highest, honor,, avn, award, celebrates, outstanding, achievement, world, adult, entertainment, category, recognize, performers,, directors,, retailers..., , , , , , , , , , , , , , , , see, full, summary »]|\n",
            "|AVN Awards 2014                                     |Erotic filmmaking superstars Chanel Preston and Samantha Saint host the 31st annual adult movie awards from The Joint at the Hard Rock Hotel and Casino in Las Vegas, honoring the best work ...                See full summary »       |579.0|9.0      |68.0        |1870.0     |65067.0  |738648.0 |0.0   |101.0      |6.7    |[avn, awards, 2014]                                           |[erotic, filmmaking, superstars, chanel, preston, and, samantha, saint, host, the, 31st, annual, adult, movie, awards, from, the, joint, at, the, hard, rock, hotel, and, casino, in, las, vegas,, honoring, the, best, work, ..., , , , , , , , , , , , , , , , see, full, summary »]|[avn, awards, 2014]                                           |[erotic, filmmaking, superstars, chanel, preston, samantha, saint, host, 31st, annual, adult, movie, awards, joint, hard, rock, hotel, casino, las, vegas,, honoring, best, work, ..., , , , , , , , , , , , , , , , see, full, summary »]  |[avn, award, 2014]                                           |[erotic, filmmaking, superstar, chanel, preston, samantha, saint, host, 31st, annual, adult, movie, award, joint, hard, rock, hotel, casino, la, vegas,, honoring, best, work, ..., , , , , , , , , , , , , , , , see, full, summary »] |\n",
            "|Couples Guest House                                 |2 romantic couples moves out for a trip and stay at Couples Guest House. The romance-filled story turns upside down and become a nightmare.                                                                                              |4.0  |0.0      |0.0         |2227.0     |0.0      |547837.0 |0.0   |54.0       |6.0    |[couples, guest, house]                                       |[2, romantic, couples, moves, out, for, a, trip, and, stay, at, couples, guest, house., the, romance-filled, story, turns, upside, down, and, become, a, nightmare.]                                                                                                                  |[couples, guest, house]                                       |[2, romantic, couples, moves, trip, stay, couples, guest, house., romance-filled, story, turns, upside, become, nightmare.]                                                                                                                 |[couple, guest, house]                                       |[2, romantic, couple, move, trip, stay, couple, guest, house., romance-filled, story, turn, upside, become, nightmare.]                                                                                                                 |\n",
            "|Wadd: The Life & Times of John C. Holmes            |Friends, enemies, acquaintances, and family of porn star John Holmes recall their experiences with him, from his childhood to his eventual death from AIDS in 1988.                                                                      |106.0|30.0     |72.0        |2959.0     |59482.0  |132068.0 |0.0   |907.0      |6.8    |[wadd:, the, life, &, times, of, john, c., holmes]            |[friends,, enemies,, acquaintances,, and, family, of, porn, star, john, holmes, recall, their, experiences, with, him,, from, his, childhood, to, his, eventual, death, from, aids, in, 1988.]                                                                                        |[wadd:, life, &, times, john, c., holmes]                     |[friends,, enemies,, acquaintances,, family, porn, star, john, holmes, recall, experiences, him,, childhood, eventual, death, aids, 1988.]                                                                                                  |[wadd:, life, &, time, john, c., holmes]                     |[friends,, enemies,, acquaintances,, family, porn, star, john, holmes, recall, experience, him,, childhood, eventual, death, aid, 1988.]                                                                                                |\n",
            "|The Sex Awards                                      |Who will be crowned the first Porn Star of the Year? In the first fan-voted award show to be shown on television this behind-the-scenes look at the lives of the major porn stars provides ...                See full summary »         |579.0|4.0      |82.0        |1870.0     |395279.0 |267272.0 |0.0   |74.0       |7.1    |[the, sex, awards]                                            |[who, will, be, crowned, the, first, porn, star, of, the, year?, in, the, first, fan-voted, award, show, to, be, shown, on, television, this, behind-the-scenes, look, at, the, lives, of, the, major, porn, stars, provides, ..., , , , , , , , , , , , , , , , see, full, summary »]|[sex, awards]                                                 |[crowned, first, porn, star, year?, first, fan-voted, award, show, shown, television, behind-the-scenes, look, lives, major, porn, stars, provides, ..., , , , , , , , , , , , , , , , see, full, summary »]                                |[sex, award]                                                 |[crowned, first, porn, star, year?, first, fan-voted, award, show, shown, television, behind-the-scenes, look, life, major, porn, star, provides, ..., , , , , , , , , , , , , , , , see, full, summary »]                              |\n",
            "|Modern Romance                                      |Add a Plot                                                                                                                                                                                                                               |114.0|0.0      |93.0        |2227.0     |322558.0 |1029019.0|0.0   |28.0       |7.3    |[modern, romance]                                             |[add, a, plot]                                                                                                                                                                                                                                                                        |[modern, romance]                                             |[add, plot]                                                                                                                                                                                                                                 |[modern, romance]                                            |[add, plot]                                                                                                                                                                                                                             |\n",
            "|The Kama Sutra of Vatsyayana                        |Add a Plot                                                                                                                                                                                                                               |673.0|12.0     |4.0         |2958.0     |303983.0 |569421.0 |0.0   |25.0       |2.9    |[the, kama, sutra, of, vatsyayana]                            |[add, a, plot]                                                                                                                                                                                                                                                                        |[kama, sutra, vatsyayana]                                     |[add, plot]                                                                                                                                                                                                                                 |[kama, sutra, vatsyayana]                                    |[add, plot]                                                                                                                                                                                                                             |\n",
            "|Virtualia                                           |A nuclear war's radiation has rendered most men impotent. Pleasure is a luxury but the mysterious Virtualia gives ecstatic love to her visitors. Enemies arise while she seeks answers about her past and face new perverse challenges.  |410.0|5.0      |11.0        |2767.0     |0.0      |519737.0 |0.0   |25.0       |5.9    |[virtualia]                                                   |[a, nuclear, war's, radiation, has, rendered, most, men, impotent., pleasure, is, a, luxury, but, the, mysterious, virtualia, gives, ecstatic, love, to, her, visitors., enemies, arise, while, she, seeks, answers, about, her, past, and, face, new, perverse, challenges.]         |[virtualia]                                                   |[nuclear, war's, radiation, rendered, men, impotent., pleasure, luxury, mysterious, virtualia, gives, ecstatic, love, visitors., enemies, arise, seeks, answers, past, face, new, perverse, challenges.]                                    |[virtualia]                                                  |[nuclear, war's, radiation, rendered, men, impotent., pleasure, luxury, mysterious, virtualia, give, ecstatic, love, visitors., enemy, arise, seek, answer, past, face, new, perverse, challenges.]                                     |\n",
            "|Poland's Gay Shocker                                |Aaron Van Doren gives us another shocking tale from catholic Poland.                                                                                                                                                                     |23.0 |5.0      |4.0         |2768.0     |96258.0  |592534.0 |0.0   |27.0       |4.1    |[poland's, gay, shocker]                                      |[aaron, van, doren, gives, us, another, shocking, tale, from, catholic, poland.]                                                                                                                                                                                                      |[poland's, gay, shocker]                                      |[aaron, van, doren, gives, us, another, shocking, tale, catholic, poland.]                                                                                                                                                                  |[poland's, gay, shocker]                                     |[aaron, van, doren, give, u, another, shocking, tale, catholic, poland.]                                                                                                                                                                |\n",
            "|2010 AVN Awards Show                                |Stars of 2009's X-rated films are interviewed on the red carpet and then honored at the AVN Awards in Las Vegas.                                                                                                                         |623.0|4.0      |90.0        |1870.0     |264035.0 |738647.0 |0.0   |60.0       |7.1    |[2010, avn, awards, show]                                     |[stars, of, 2009's, x-rated, films, are, interviewed, on, the, red, carpet, and, then, honored, at, the, avn, awards, in, las, vegas.]                                                                                                                                                |[2010, avn, awards, show]                                     |[stars, 2009's, x-rated, films, interviewed, red, carpet, honored, avn, awards, las, vegas.]                                                                                                                                                |[2010, avn, award, show]                                     |[star, 2009's, x-rated, film, interviewed, red, carpet, honored, avn, award, la, vegas.]                                                                                                                                                |\n",
            "|Secrétaires très particulières                      |Add a Plot                                                                                                                                                                                                                               |184.0|0.0      |47.0        |1420.0     |280679.0 |375082.0 |0.0   |17.0       |5.1    |[secrétaires, très, particulières]                            |[add, a, plot]                                                                                                                                                                                                                                                                        |[secrétaires, très, particulières]                            |[add, plot]                                                                                                                                                                                                                                 |[secrétaires, très, particulières]                           |[add, plot]                                                                                                                                                                                                                             |\n",
            "|Julia & Romeo - Liebe ist ein Schlachtfeld          |Add a Plot                                                                                                                                                                                                                               |114.0|0.0      |63.0        |2722.0     |9552.0   |171556.0 |0.0   |37.0       |4.1    |[julia, &, romeo, -, liebe, ist, ein, schlachtfeld]           |[add, a, plot]                                                                                                                                                                                                                                                                        |[julia, &, romeo, -, liebe, ist, ein, schlachtfeld]           |[add, plot]                                                                                                                                                                                                                                 |[julia, &, romeo, -, liebe, ist, ein, schlachtfeld]          |[add, plot]                                                                                                                                                                                                                             |\n",
            "|Kyodai hiroin mugen no seresutia                    |A woman must synchronize with a giant named Celestia to defeat a monster, all while the Minister of Defense takes advantage of her and violates her.                                                                                     |21.0 |0.0      |0.0         |2723.0     |413682.0 |561168.0 |0.0   |26.0       |6.1    |[kyodai, hiroin, mugen, no, seresutia]                        |[a, woman, must, synchronize, with, a, giant, named, celestia, to, defeat, a, monster,, all, while, the, minister, of, defense, takes, advantage, of, her, and, violates, her.]                                                                                                       |[kyodai, hiroin, mugen, seresutia]                            |[woman, must, synchronize, giant, named, celestia, defeat, monster,, minister, defense, takes, advantage, violates, her.]                                                                                                                   |[kyodai, hiroin, mugen, seresutia]                           |[woman, must, synchronize, giant, named, celestia, defeat, monster,, minister, defense, take, advantage, violates, her.]                                                                                                                |\n",
            "|L'educatrice                                        |Helena is a private instructor hired by a family. She's professional and takes her job seriously but she has her own way to help and educate each members of the family.                                                                 |159.0|0.0      |156.0       |2766.0     |358114.0 |254221.0 |0.0   |22.0       |7.3    |[l'educatrice]                                                |[helena, is, a, private, instructor, hired, by, a, family., she's, professional, and, takes, her, job, seriously, but, she, has, her, own, way, to, help, and, educate, each, members, of, the, family.]                                                                              |[l'educatrice]                                                |[helena, private, instructor, hired, family., professional, takes, job, seriously, way, help, educate, members, family.]                                                                                                                    |[l'educatrice]                                               |[helena, private, instructor, hired, family., professional, take, job, seriously, way, help, educate, member, family.]                                                                                                                  |\n",
            "|2009 AVN Adult Movie Awards Show: Red Carpet PreShow|Add a Plot                                                                                                                                                                                                                               |652.0|0.0      |0.0         |1870.0     |90959.0  |583176.0 |0.0   |14.0       |7.0    |[2009, avn, adult, movie, awards, show:, red, carpet, preshow]|[add, a, plot]                                                                                                                                                                                                                                                                        |[2009, avn, adult, movie, awards, show:, red, carpet, preshow]|[add, plot]                                                                                                                                                                                                                                 |[2009, avn, adult, movie, award, show:, red, carpet, preshow]|[add, plot]                                                                                                                                                                                                                             |\n",
            "|Die Rückkehr der Gabelstaplerfahrer                 |Add a Plot                                                                                                                                                                                                                               |147.0|0.0      |77.0        |3331.0     |9552.0   |498222.0 |0.0   |83.0       |2.2    |[die, rückkehr, der, gabelstaplerfahrer]                      |[add, a, plot]                                                                                                                                                                                                                                                                        |[die, rückkehr, der, gabelstaplerfahrer]                      |[add, plot]                                                                                                                                                                                                                                 |[die, rückkehr, der, gabelstaplerfahrer]                     |[add, plot]                                                                                                                                                                                                                             |\n",
            "|Quiet on Set                                        |Add a Plot                                                                                                                                                                                                                               |96.0 |0.0      |204.0       |1420.0     |99400.0  |576774.0 |0.0   |0.0        |11.0   |[quiet, on, set]                                              |[add, a, plot]                                                                                                                                                                                                                                                                        |[quiet, set]                                                  |[add, plot]                                                                                                                                                                                                                                 |[quiet, set]                                                 |[add, plot]                                                                                                                                                                                                                             |\n",
            "+----------------------------------------------------+-----------------------------------------------------------------------------------------------------------------------------------------------------------------------------------------------------------------------------------------+-----+---------+------------+-----------+---------+---------+------+-----------+-------+--------------------------------------------------------------+--------------------------------------------------------------------------------------------------------------------------------------------------------------------------------------------------------------------------------------------------------------------------------------+--------------------------------------------------------------+--------------------------------------------------------------------------------------------------------------------------------------------------------------------------------------------------------------------------------------------+-------------------------------------------------------------+----------------------------------------------------------------------------------------------------------------------------------------------------------------------------------------------------------------------------------------+\n",
            "only showing top 20 rows\n",
            "\n"
          ]
        }
      ]
    },
    {
      "cell_type": "code",
      "source": [
        "# Use Hashing TF-DF to find out the importance of each word which is then given a number\n",
        "\n",
        "from pyspark.ml.feature import HashingTF,IDF\n",
        "hashing_vec2=HashingTF(inputCol='lemmatized_title',outputCol='title_features')\n",
        "hashing_vec3=HashingTF(inputCol='lemmatized_summary',outputCol='summary_features')\n",
        "hashing_df2=hashing_vec2.transform(refined_df2)\n",
        "hashing_df2=hashing_vec3.transform(hashing_df2)\n",
        "hashing_df2.select(['lemmatized_title','title_features','lemmatized_summary','summary_features']).show(4,False)"
      ],
      "metadata": {
        "colab": {
          "base_uri": "https://localhost:8080/"
        },
        "id": "NZ9PCLs0zYPa",
        "outputId": "b7888690-6095-43c4-9789-f54c098b66bc"
      },
      "execution_count": null,
      "outputs": [
        {
          "output_type": "stream",
          "name": "stdout",
          "text": [
            "+------------------------------+------------------------------------------------------------------+----------------------------------------------------------------------------------------------------------------------------------------------------------------------------------------------------------------------------------------+-------------------------------------------------------------------------------------------------------------------------------------------------------------------------------------------------------------------------------------------------------------------------------------------------------+\n",
            "|lemmatized_title              |title_features                                                    |lemmatized_summary                                                                                                                                                                                                                      |summary_features                                                                                                                                                                                                                                                                                       |\n",
            "+------------------------------+------------------------------------------------------------------+----------------------------------------------------------------------------------------------------------------------------------------------------------------------------------------------------------------------------------------+-------------------------------------------------------------------------------------------------------------------------------------------------------------------------------------------------------------------------------------------------------------------------------------------------------+\n",
            "|[best, sex:, 2015, avn, award]|(262144,[75368,166027,172660,201939,209767],[1.0,1.0,1.0,1.0,1.0])|[hottest, adult, star, top, adult, movie, celebrated, award, ceremony, hard, rock, hotel, &, casino, la, vegas,, everything, best, big, bust, release,, best, celebrity, sex, tape, best, orgy, paid, tribute, to.]                     |(262144,[2437,9886,10622,18176,19729,51144,55880,73445,80649,87284,91031,94218,123940,125161,140762,142357,159368,166027,172888,181561,182804,204907,209767,210223,213314,226952,248496],[1.0,1.0,1.0,1.0,1.0,1.0,1.0,1.0,1.0,1.0,1.0,1.0,1.0,1.0,1.0,1.0,2.0,3.0,1.0,1.0,1.0,1.0,1.0,1.0,1.0,1.0,1.0])|\n",
            "|[naughty, novelist]           |(262144,[101219,243126],[1.0,1.0])                                |[darian, successful, journalist, move, new, town, start, looking, work., answer, ad, local, paper, find, job, writing, lesbian, erotica, long, fantasy, becomes, reality.]                                                              |(262144,[9781,16004,65719,67483,82035,89833,91878,99179,99197,134741,153169,157506,159066,163000,197369,198836,199667,206312,207328,210058,222808,239944],[1.0,1.0,1.0,1.0,1.0,1.0,1.0,1.0,1.0,1.0,1.0,1.0,1.0,1.0,1.0,1.0,1.0,1.0,1.0,1.0,1.0,1.0])                                                   |\n",
            "|[2011, avn, award, show]      |(262144,[201939,209767,239549,245731],[1.0,1.0,1.0,1.0])          |[add, plot]                                                                                                                                                                                                                             |(262144,[48063,181938],[1.0,1.0])                                                                                                                                                                                                                                                                      |\n",
            "|[best, sex:, 2017, avn, award]|(262144,[38058,166027,172660,201939,209767],[1.0,1.0,1.0,1.0,1.0])|[considered, industry's, highest, honor,, avn, award, celebrates, outstanding, achievement, world, adult, entertainment, category, recognize, performers,, directors,, retailers..., , , , , , , , , , , , , , , , see, full, summary »]|(262144,[8538,46184,60080,68435,82322,119898,126384,133956,134260,144803,151393,159368,173483,186389,195996,197755,201939,209767,227721,234654,249180],[1.0,1.0,1.0,1.0,1.0,1.0,1.0,1.0,1.0,1.0,1.0,1.0,1.0,1.0,1.0,1.0,1.0,1.0,1.0,1.0,15.0])                                                         |\n",
            "+------------------------------+------------------------------------------------------------------+----------------------------------------------------------------------------------------------------------------------------------------------------------------------------------------------------------------------------------------+-------------------------------------------------------------------------------------------------------------------------------------------------------------------------------------------------------------------------------------------------------------------------------------------------------+\n",
            "only showing top 4 rows\n",
            "\n"
          ]
        }
      ]
    },
    {
      "cell_type": "code",
      "source": [
        "from pyspark.ml.linalg import Vectors\n",
        "from pyspark.ml.feature import VectorAssembler\n",
        "\n",
        "input_cols=['title_features', 'summary_features','date','public_vote','movie_genre','directors','stars','movie_length','certified','income',]\n",
        "\n",
        "# Assemble all features together using vector assembler so this can be easily fed into the maching learning model\n",
        "\n",
        "vec_assembler = VectorAssembler(inputCols = input_cols, outputCol='features')\n",
        "final_data = vec_assembler.transform(hashing_df2)\n",
        "final_data.show()"
      ],
      "metadata": {
        "colab": {
          "base_uri": "https://localhost:8080/"
        },
        "id": "TRfx2I5bzd9y",
        "outputId": "f3cb64c6-bc3f-4b27-8448-4953cb3b3b95"
      },
      "execution_count": null,
      "outputs": [
        {
          "output_type": "stream",
          "name": "stdout",
          "text": [
            "+--------------------+--------------------+-----+---------+------------+-----------+---------+---------+------+-----------+-------+--------------------+--------------------+--------------------+--------------------+--------------------+--------------------+--------------------+--------------------+--------------------+\n",
            "|                name|         description| date|certified|movie_length|movie_genre|directors|    stars|income|public_vote|ranking|               title|             summary|       refined_title|     refined_summary|    lemmatized_title|  lemmatized_summary|      title_features|    summary_features|            features|\n",
            "+--------------------+--------------------+-----+---------+------------+-----------+---------+---------+------+-----------+-------+--------------------+--------------------+--------------------+--------------------+--------------------+--------------------+--------------------+--------------------+--------------------+\n",
            "|Best in Sex: 2015...|The hottest adult...|573.0|      4.0|        64.0|     1870.0|  65067.0| 865645.0|   0.0|      124.0|    4.0|[best, in, sex:, ...|[the, hottest, ad...|[best, sex:, 2015...|[hottest, adult, ...|[best, sex:, 2015...|[hottest, adult, ...|(262144,[75368,16...|(262144,[2437,988...|(524296,[75368,16...|\n",
            "|    Naughty Novelist|Darian is a succe...|153.0|      0.0|        50.0|     1420.0|   9342.0| 228355.0|   0.0|      174.0|    3.8| [naughty, novelist]|[darian, is, a, s...| [naughty, novelist]|[darian, successf...| [naughty, novelist]|[darian, successf...|(262144,[101219,2...|(262144,[9781,160...|(524296,[101219,2...|\n",
            "|2011 AVN Awards Show|          Add a Plot|580.0|      0.0|        67.0|     1870.0| 319959.0| 704486.0|   0.0|       39.0|    5.7|[2011, avn, award...|      [add, a, plot]|[2011, avn, award...|         [add, plot]|[2011, avn, award...|         [add, plot]|(262144,[201939,2...|(262144,[48063,18...|(524296,[201939,2...|\n",
            "|Best in Sex: 2017...|Considered the in...|563.0|      4.0|        55.0|     1870.0|  65067.0| 889253.0|   0.0|      225.0|    4.9|[best, in, sex:, ...|[considered, the,...|[best, sex:, 2017...|[considered, indu...|[best, sex:, 2017...|[considered, indu...|(262144,[38058,16...|(262144,[8538,461...|(524296,[38058,16...|\n",
            "|     AVN Awards 2014|Erotic filmmaking...|579.0|      9.0|        68.0|     1870.0|  65067.0| 738648.0|   0.0|      101.0|    6.7| [avn, awards, 2014]|[erotic, filmmaki...| [avn, awards, 2014]|[erotic, filmmaki...|  [avn, award, 2014]|[erotic, filmmaki...|(262144,[201939,2...|(262144,[2437,819...|(524296,[201939,2...|\n",
            "| Couples Guest House|2 romantic couple...|  4.0|      0.0|         0.0|     2227.0|      0.0| 547837.0|   0.0|       54.0|    6.0|[couples, guest, ...|[2, romantic, cou...|[couples, guest, ...|[2, romantic, cou...|[couple, guest, h...|[2, romantic, cou...|(262144,[3837,927...|(262144,[3837,125...|(524296,[3837,927...|\n",
            "|Wadd: The Life & ...|Friends, enemies,...|106.0|     30.0|        72.0|     2959.0|  59482.0| 132068.0|   0.0|      907.0|    6.8|[wadd:, the, life...|[friends,, enemie...|[wadd:, life, &, ...|[friends,, enemie...|[wadd:, life, &, ...|[friends,, enemie...|(262144,[25159,50...|(262144,[5944,198...|(524296,[25159,50...|\n",
            "|      The Sex Awards|Who will be crown...|579.0|      4.0|        82.0|     1870.0| 395279.0| 267272.0|   0.0|       74.0|    7.1|  [the, sex, awards]|[who, will, be, c...|       [sex, awards]|[crowned, first, ...|        [sex, award]|[crowned, first, ...|(262144,[182804,2...|(262144,[8538,507...|(524296,[182804,2...|\n",
            "|      Modern Romance|          Add a Plot|114.0|      0.0|        93.0|     2227.0| 322558.0|1029019.0|   0.0|       28.0|    7.3|   [modern, romance]|      [add, a, plot]|   [modern, romance]|         [add, plot]|   [modern, romance]|         [add, plot]|(262144,[175966,2...|(262144,[48063,18...|(524296,[175966,2...|\n",
            "|The Kama Sutra of...|          Add a Plot|673.0|     12.0|         4.0|     2958.0| 303983.0| 569421.0|   0.0|       25.0|    2.9|[the, kama, sutra...|      [add, a, plot]|[kama, sutra, vat...|         [add, plot]|[kama, sutra, vat...|         [add, plot]|(262144,[150106,1...|(262144,[48063,18...|(524296,[150106,1...|\n",
            "|           Virtualia|A nuclear war's r...|410.0|      5.0|        11.0|     2767.0|      0.0| 519737.0|   0.0|       25.0|    5.9|         [virtualia]|[a, nuclear, war'...|         [virtualia]|[nuclear, war's, ...|         [virtualia]|[nuclear, war's, ...|(262144,[240176],...|(262144,[14273,34...|(524296,[240176,2...|\n",
            "|Poland's Gay Shocker|Aaron Van Doren g...| 23.0|      5.0|         4.0|     2768.0|  96258.0| 592534.0|   0.0|       27.0|    4.1|[poland's, gay, s...|[aaron, van, dore...|[poland's, gay, s...|[aaron, van, dore...|[poland's, gay, s...|[aaron, van, dore...|(262144,[55748,13...|(262144,[16725,51...|(524296,[55748,13...|\n",
            "|2010 AVN Awards Show|Stars of 2009's X...|623.0|      4.0|        90.0|     1870.0| 264035.0| 738647.0|   0.0|       60.0|    7.1|[2010, avn, award...|[stars, of, 2009'...|[2010, avn, award...|[stars, 2009's, x...|[2010, avn, award...|[star, 2009's, x-...|(262144,[47672,20...|(262144,[10564,17...|(524296,[47672,20...|\n",
            "|Secrétaires très ...|          Add a Plot|184.0|      0.0|        47.0|     1420.0| 280679.0| 375082.0|   0.0|       17.0|    5.1|[secrétaires, trè...|      [add, a, plot]|[secrétaires, trè...|         [add, plot]|[secrétaires, trè...|         [add, plot]|(262144,[45399,46...|(262144,[48063,18...|(524296,[45399,46...|\n",
            "|Julia & Romeo - L...|          Add a Plot|114.0|      0.0|        63.0|     2722.0|   9552.0| 171556.0|   0.0|       37.0|    4.1|[julia, &, romeo,...|      [add, a, plot]|[julia, &, romeo,...|         [add, plot]|[julia, &, romeo,...|         [add, plot]|(262144,[38640,51...|(262144,[48063,18...|(524296,[38640,51...|\n",
            "|Kyodai hiroin mug...|A woman must sync...| 21.0|      0.0|         0.0|     2723.0| 413682.0| 561168.0|   0.0|       26.0|    6.1|[kyodai, hiroin, ...|[a, woman, must, ...|[kyodai, hiroin, ...|[woman, must, syn...|[kyodai, hiroin, ...|[woman, must, syn...|(262144,[29528,12...|(262144,[37041,55...|(524296,[29528,12...|\n",
            "|        L'educatrice|Helena is a priva...|159.0|      0.0|       156.0|     2766.0| 358114.0| 254221.0|   0.0|       22.0|    7.3|      [l'educatrice]|[helena, is, a, p...|      [l'educatrice]|[helena, private,...|      [l'educatrice]|[helena, private,...|(262144,[55339],[...|(262144,[150,4193...|(524296,[55339,26...|\n",
            "|2009 AVN Adult Mo...|          Add a Plot|652.0|      0.0|         0.0|     1870.0|  90959.0| 583176.0|   0.0|       14.0|    7.0|[2009, avn, adult...|      [add, a, plot]|[2009, avn, adult...|         [add, plot]|[2009, avn, adult...|         [add, plot]|(262144,[10564,15...|(262144,[48063,18...|(524296,[10564,15...|\n",
            "|Die Rückkehr der ...|          Add a Plot|147.0|      0.0|        77.0|     3331.0|   9552.0| 498222.0|   0.0|       83.0|    2.2|[die, rückkehr, d...|      [add, a, plot]|[die, rückkehr, d...|         [add, plot]|[die, rückkehr, d...|         [add, plot]|(262144,[163059,1...|(262144,[48063,18...|(524296,[163059,1...|\n",
            "|        Quiet on Set|          Add a Plot| 96.0|      0.0|       204.0|     1420.0|  99400.0| 576774.0|   0.0|        0.0|   11.0|    [quiet, on, set]|      [add, a, plot]|        [quiet, set]|         [add, plot]|        [quiet, set]|         [add, plot]|(262144,[133567,2...|(262144,[48063,18...|(524296,[133567,2...|\n",
            "+--------------------+--------------------+-----+---------+------------+-----------+---------+---------+------+-----------+-------+--------------------+--------------------+--------------------+--------------------+--------------------+--------------------+--------------------+--------------------+--------------------+\n",
            "only showing top 20 rows\n",
            "\n"
          ]
        }
      ]
    },
    {
      "cell_type": "code",
      "source": [
        "# Select final data frame being the features and label column 'ranking'\n",
        "\n",
        "final_data3=final_data.select('features','ranking')\n",
        "final_data3.show()"
      ],
      "metadata": {
        "colab": {
          "base_uri": "https://localhost:8080/"
        },
        "id": "toU3sFOZzfzO",
        "outputId": "338d01d4-bfd9-4c4c-c0b4-d1e01501dfea"
      },
      "execution_count": null,
      "outputs": [
        {
          "output_type": "stream",
          "name": "stdout",
          "text": [
            "+--------------------+-------+\n",
            "|            features|ranking|\n",
            "+--------------------+-------+\n",
            "|(524296,[75368,16...|    4.0|\n",
            "|(524296,[101219,2...|    3.8|\n",
            "|(524296,[201939,2...|    5.7|\n",
            "|(524296,[38058,16...|    4.9|\n",
            "|(524296,[201939,2...|    6.7|\n",
            "|(524296,[3837,927...|    6.0|\n",
            "|(524296,[25159,50...|    6.8|\n",
            "|(524296,[182804,2...|    7.1|\n",
            "|(524296,[175966,2...|    7.3|\n",
            "|(524296,[150106,1...|    2.9|\n",
            "|(524296,[240176,2...|    5.9|\n",
            "|(524296,[55748,13...|    4.1|\n",
            "|(524296,[47672,20...|    7.1|\n",
            "|(524296,[45399,46...|    5.1|\n",
            "|(524296,[38640,51...|    4.1|\n",
            "|(524296,[29528,12...|    6.1|\n",
            "|(524296,[55339,26...|    7.3|\n",
            "|(524296,[10564,15...|    7.0|\n",
            "|(524296,[163059,1...|    2.2|\n",
            "|(524296,[133567,2...|   11.0|\n",
            "+--------------------+-------+\n",
            "only showing top 20 rows\n",
            "\n"
          ]
        }
      ]
    },
    {
      "cell_type": "code",
      "source": [
        "# Adjust the numerical data so that they are centered around zero and have a standard deviation of 1 to limit bias\n",
        "\n",
        "from pyspark.ml.feature import StandardScaler\n",
        "\n",
        "scaler = StandardScaler(inputCol = 'features', outputCol = 'scaledFeatures')\n",
        "\n",
        "\n",
        "scaler_model = scaler.fit(final_data3)\n",
        "final_data3 = scaler_model.transform(final_data3)\n",
        "\n",
        "final_data3 = final_data3.select('scaledFeatures', 'ranking')\n",
        "final_data3.show(5, truncate = False)"
      ],
      "metadata": {
        "colab": {
          "base_uri": "https://localhost:8080/"
        },
        "id": "kYWK5nJ_zh8W",
        "outputId": "1dba56fa-a07a-49aa-e0f9-c712510e7a96"
      },
      "execution_count": null,
      "outputs": [
        {
          "output_type": "stream",
          "name": "stdout",
          "text": [
            "+----------------------------------------------------------------------------------------------------------------------------------------------------------------------------------------------------------------------------------------------------------------------------------------------------------------------------------------------------------------------------------------------------------------------------------------------------------------------------------------------------------------------------------------------------------------------------------------------------------------------------------------------------------------------------------------------------------------------------------------------------------------------------------------------------------------------------------------------------------------------------------------------------------------------------------------------------------------------------------------------------------------------------------------+-------+\n",
            "|scaledFeatures                                                                                                                                                                                                                                                                                                                                                                                                                                                                                                                                                                                                                                                                                                                                                                                                                                                                                                                                                                                                                          |ranking|\n",
            "+----------------------------------------------------------------------------------------------------------------------------------------------------------------------------------------------------------------------------------------------------------------------------------------------------------------------------------------------------------------------------------------------------------------------------------------------------------------------------------------------------------------------------------------------------------------------------------------------------------------------------------------------------------------------------------------------------------------------------------------------------------------------------------------------------------------------------------------------------------------------------------------------------------------------------------------------------------------------------------------------------------------------------------------+-------+\n",
            "|(524296,[75368,166027,172660,201939,209767,264581,272030,272766,280320,281873,313288,318024,335589,342793,349428,353175,356362,386084,387305,402906,404501,421512,428171,435032,443705,444948,467051,471911,472367,475458,489096,510640,524288,524289,524290,524291,524292,524293,524294],[65.53090921252812,24.754389130122956,409.89283152903334,600.0207139301425,41.26337787895971,22.877113882291653,19.69720848935039,80.59941464381795,18.76735270141338,72.46612855427799,17.382259386634484,50.309801659108885,63.25555571658527,63.918003247178405,59.170034032771554,28.480449766020094,53.61407988509019,18.44306204647068,66.15301875080195,20.57938611895642,216.03399402636734,76.7596256991396,39.43275497813554,12.33439104709933,20.733836411051605,33.950712631911905,67.9459666386776,33.83364598163341,13.996561749480012,14.545212005523043,64.44238323636542,45.87598516489572,1.8282218096787017,1.368280037326616,8.985306509433899,0.6973261990759658,2.6398865415064914,2.514948298670562,1.848329682964453])|4.0    |\n",
            "|(524296,[101219,243126,271925,278148,327863,329627,344179,351977,354022,361323,361341,396885,415313,419650,421210,425144,459513,460980,461811,468456,469472,472202,484952,502088,524288,524289,524290,524291,524292,524293],[600.0207139301425,130.05698583808214,22.713179578414163,12.345524159670521,331.01884881317443,29.87904605112608,19.2821966106679,5.987387623743202,5.788070443537117,13.062995560279873,17.857357795905713,27.331224805433507,13.028928118564208,43.72014076106028,17.34101309646644,17.403617616438993,385.0274245471453,14.052586224928648,31.4393664194881,17.448850390025633,79.98271961978284,41.055754450706885,38.291023031591024,67.821120554809,0.48816393871001984,1.9200058588292839,6.823066975078149,0.1001186677081727,0.6963955099211743,1.9648033583363766])                                                                                                                                                                                                                               |3.8    |\n",
            "|(524296,[201939,209767,239549,245731,310207,444082,524288,524289,524290,524291,524292,524293],[600.0207139301425,41.26337787895971,79.78131509049155,10.346858396561874,2.0512139913459326,2.0531231988187297,1.8505561075281798,0.43034614077208083,8.985306509433899,3.4290161422863656,2.148413160221271,2.6328365001707446])                                                                                                                                                                                                                                                                                                                                                                                                                                                                                                                                                                                                                                                                                                        |5.7    |\n",
            "|(524296,[38058,166027,172660,201939,209767,270682,308328,322224,330579,344466,382042,388528,396100,396404,406947,413537,421512,435627,448533,458140,459899,464083,471911,489865,496798,511324,524288,524289,524290,524291,524292,524293,524294],[60.4434960562204,24.754389130122956,409.89283152903334,600.0207139301425,41.26337787895971,3.2063551945432547,154.19520232168097,8.212070208389779,116.4052420154625,100.00807835717023,3.489805937667589,47.38285456445716,87.00032885996494,178.61088469692183,55.31199635870167,3.325726862514589,38.3798128495698,90.75682426059043,222.29718674676613,80.49539027143348,44.98374137424672,916.5460526713648,33.83364598163341,251.0077638400826,59.41909790424115,3.388494465338422,1.7963156698937333,2.4827661967620047,8.985306509433899,0.6973261990759658,2.71188192237496,2.1612836941700144,1.848329682964453])                                                                                                                                                            |4.9    |\n",
            "|(524296,[201939,209767,261388,264581,270334,270682,272030,281873,296487,302607,306186,324670,332337,347746,349428,353175,354414,367414,382042,402906,413537,421512,425499,428171,430062,430928,471911,472367,478185,482688,511324,524288,524289,524290,524291,524292,524293,524294],[600.0207139301425,41.26337787895971,70.16552839308247,22.877113882291653,53.43076873509399,3.2063551945432547,19.69720848935039,72.46612855427799,11.777061458317995,47.76388829323649,127.10563038445129,43.119881703849,3.7353213605049334,81.98410116788061,59.170034032771554,28.480449766020094,119.32806465835571,84.74056349742985,3.489805937667589,20.57938611895642,3.325726862514589,38.3798128495698,89.45019499824897,13.144251659378513,15.98981960565344,76.2969183760227,33.83364598163341,13.996561749480012,33.54182487356083,200.00897062631532,3.388494465338422,1.847365493549683,1.114486159435389,8.985306509433899,0.6973261990759658,2.2525942090703315,2.672132567337472,4.15874178667002])                              |6.7    |\n",
            "+----------------------------------------------------------------------------------------------------------------------------------------------------------------------------------------------------------------------------------------------------------------------------------------------------------------------------------------------------------------------------------------------------------------------------------------------------------------------------------------------------------------------------------------------------------------------------------------------------------------------------------------------------------------------------------------------------------------------------------------------------------------------------------------------------------------------------------------------------------------------------------------------------------------------------------------------------------------------------------------------------------------------------------------+-------+\n",
            "only showing top 5 rows\n",
            "\n"
          ]
        }
      ]
    },
    {
      "cell_type": "markdown",
      "source": [
        "Training data, test data split"
      ],
      "metadata": {
        "id": "tN06zBnezkt9"
      }
    },
    {
      "cell_type": "code",
      "source": [
        "# Split data to prepare for training\n",
        "\n",
        "train_data, test_data = final_data3.randomSplit([0.7, 0.3], seed = 42)\n",
        "train_data.show(5, truncate = False)"
      ],
      "metadata": {
        "colab": {
          "base_uri": "https://localhost:8080/"
        },
        "id": "n-9HoVfSzkBA",
        "outputId": "b7447001-d1aa-43fc-b7f0-ea3e92913259"
      },
      "execution_count": null,
      "outputs": [
        {
          "output_type": "stream",
          "name": "stdout",
          "text": [
            "+-------------------------------------------------------------------------------------------------------------------------------------------------------------------------------------------------------------------------------------------------------------------------------------------------------------------------------------------------------------------------------------------------------------------------------------------------------------------------------------------------------------------------------------------------------------------------------------------------------------------------------------------------------------------------------------------------------------------------------------------------------------------------------------------------------------------------------------------------+-------+\n",
            "|scaledFeatures                                                                                                                                                                                                                                                                                                                                                                                                                                                                                                                                                                                                                                                                                                                                                                                                                                   |ranking|\n",
            "+-------------------------------------------------------------------------------------------------------------------------------------------------------------------------------------------------------------------------------------------------------------------------------------------------------------------------------------------------------------------------------------------------------------------------------------------------------------------------------------------------------------------------------------------------------------------------------------------------------------------------------------------------------------------------------------------------------------------------------------------------------------------------------------------------------------------------------------------------+-------+\n",
            "|(524296,[4,270682,276216,328336,329627,332337,344176,358149,362219,382042,396855,405645,413537,416113,421957,439668,459220,469398,475904,491551,507743,511324,514866,516448,520798,524014,524288,524289,524290,524291,524292,524293],[916.5460526713648,3.2063551945432547,37.88579910275516,99.41819155091812,29.87904605112608,3.7353213605049334,43.21661466276214,10.598202417368991,276.35046488203585,3.489805937667589,18.057661269733373,16.907050263891097,3.325726862514589,44.75135648885308,74.10500250225381,53.6153406345328,178.60998037681858,58.24745070964676,27.3998088581226,7.928220637116202,25.137535716995828,3.388494465338422,5.982102351111461,85.8481090484899,65.58627438234402,16.00507014367915,0.7274599870972844,6.212432750120039,0.5621822789324953,0.12536803413082898,1.360446771727685,1.6897308881692839])|6.6    |\n",
            "|(524296,[5,17893,204380,262569,271273,280037,285058,295034,309781,421958,425818,428242,433512,485971,490058,506900,524288,524289,524290,524291,524292,524293,524294],[440.2953554203833,16.502322792656777,26.331489092266082,648.0963148601581,16.833366226643314,10.485599718970342,280.6353840168786,15.33181873120789,106.55085992765648,48.58703396462262,13.914961263531815,46.046657394902915,13.357362276976373,19.39042083957555,134.65388714568414,36.452165314479835,1.4804448860225439,0.2206903286010671,0.22583390692160069,0.0286252367211014,1.0769237897155917,0.15718426866691013,6.469153890375586])                                                                                                                                                                                                                          |5.8    |\n",
            "|(524296,[7,133480,263306,296487,310764,345494,360515,383291,404383,430574,446339,471911,481853,492908,516057,524288,524290,524291,524292,524293],[338.4583363766925,37.37907499459843,529.1687401564174,11.777061458317995,188.4046440163608,132.2955214243824,54.36360421341272,63.10373139670287,36.882290304995365,268.33891153178433,17.404599048836047,33.83364598163341,24.416322822329235,19.20403064893616,38.628946524054264,1.3592015548396632,0.06726967440217893,3.232304715848396,3.0987412090603863,0.23577640300036518])                                                                                                                                                                                                                                                                                                          |11.0   |\n",
            "|(524296,[7,133480,310207,444082,524288,524290,524292],[338.4583363766925,37.37907499459843,2.0512139913459326,2.0531231988187297,0.3509675376346548,0.28829860458076684,0.9736637254913314])                                                                                                                                                                                                                                                                                                                                                                                                                                                                                                                                                                                                                                                     |11.0   |\n",
            "|(524296,[7,266632,279276,279435,297815,332335,351861,377066,396855,403075,419965,444269,482414,504166,524288,524290,524291,524292,524293],[338.4583363766925,79.18372540996512,32.67209289663905,8.32251774435768,85.4740250623773,107.27819889733331,7.976056993728596,24.264459300784615,18.057661269733373,14.07966628227146,54.523963680118385,89.88017397731349,25.633826465801626,12.360224431912798,0.9731372634415428,1.138779488094029,4.427116309380943,3.0050051017343056,0.9038095448347332])                                                                                                                                                                                                                                                                                                                                        |11.0   |\n",
            "+-------------------------------------------------------------------------------------------------------------------------------------------------------------------------------------------------------------------------------------------------------------------------------------------------------------------------------------------------------------------------------------------------------------------------------------------------------------------------------------------------------------------------------------------------------------------------------------------------------------------------------------------------------------------------------------------------------------------------------------------------------------------------------------------------------------------------------------------------+-------+\n",
            "only showing top 5 rows\n",
            "\n"
          ]
        }
      ]
    },
    {
      "cell_type": "markdown",
      "source": [
        "---\n",
        "# **Task 2 - Model Selection and Implementation**\n",
        "---"
      ],
      "metadata": {
        "id": "1jkm_0LBq74T"
      }
    },
    {
      "cell_type": "code",
      "source": [
        "# Train linear regression model\n",
        "\n",
        "lr = LinearRegression(labelCol = 'ranking', featuresCol = 'scaledFeatures', predictionCol = 'prediction')\n",
        "\n",
        "lr_model = lr.fit(train_data)"
      ],
      "metadata": {
        "id": "Ns_DAGy-zsPO"
      },
      "execution_count": null,
      "outputs": []
    },
    {
      "cell_type": "code",
      "source": [
        "lr_predictions = lr_model.transform(test_data)"
      ],
      "metadata": {
        "id": "xlz40HWO4LlH"
      },
      "execution_count": null,
      "outputs": []
    },
    {
      "cell_type": "code",
      "source": [
        "# Show predictions for the model\n",
        "\n",
        "lr_predictions.select('prediction', 'ranking').show(10, truncate = False)"
      ],
      "metadata": {
        "colab": {
          "base_uri": "https://localhost:8080/"
        },
        "id": "lJuoQ0SOYOwW",
        "outputId": "0d818961-c84c-4cf2-b1e3-0016fae6c97a"
      },
      "execution_count": null,
      "outputs": [
        {
          "output_type": "stream",
          "name": "stdout",
          "text": [
            "+------------------+-------+\n",
            "|prediction        |ranking|\n",
            "+------------------+-------+\n",
            "|11.123386790966936|11.0   |\n",
            "|8.706421969078406 |11.0   |\n",
            "|6.107441286505636 |11.0   |\n",
            "|10.029339226136528|11.0   |\n",
            "|10.310306286396612|11.0   |\n",
            "|10.939601362430352|11.0   |\n",
            "|10.983130040882596|11.0   |\n",
            "|10.19482142036776 |6.8    |\n",
            "|5.553183199999776 |11.0   |\n",
            "|8.407927462602114 |11.0   |\n",
            "+------------------+-------+\n",
            "only showing top 10 rows\n",
            "\n"
          ]
        }
      ]
    },
    {
      "cell_type": "code",
      "source": [
        "# Apply the coefficients and intecepts\n",
        "\n",
        "coefficients = lr_model.coefficients\n",
        "intercept = lr_model.intercept"
      ],
      "metadata": {
        "id": "NSvFZYaSZNXD"
      },
      "execution_count": null,
      "outputs": []
    },
    {
      "cell_type": "markdown",
      "source": [
        "---\n",
        "# **Task 3 - Model Parameter Tuning**\n",
        "---"
      ],
      "metadata": {
        "id": "dsClW5k-rId8"
      }
    },
    {
      "cell_type": "code",
      "source": [
        "# Train the Lasso model\n",
        "lasso = LinearRegression(labelCol = 'ranking', featuresCol = 'scaledFeatures',\n",
        "                         predictionCol = 'prediction', elasticNetParam = 1.0, regParam = 0.15)\n",
        "lasso_model = lasso.fit(train_data)\n",
        "lasso_predictions = lasso_model.transform(test_data)\n",
        "\n",
        "# Train the Ridge model\n",
        "ridge = LinearRegression(labelCol = 'ranking', featuresCol = 'scaledFeatures',\n",
        "                         predictionCol = 'prediction', elasticNetParam = 0.0, regParam = 0.15)\n",
        "ridge_model = ridge.fit(train_data)\n",
        "ridge_predictions = ridge_model.transform(test_data)"
      ],
      "metadata": {
        "id": "U_xCE9SpaYxA"
      },
      "execution_count": null,
      "outputs": []
    },
    {
      "cell_type": "code",
      "source": [
        "# Print lasso model predictions\n",
        "\n",
        "lasso_predictions.select('prediction', 'ranking').show(10, truncate = False)"
      ],
      "metadata": {
        "colab": {
          "base_uri": "https://localhost:8080/"
        },
        "id": "iNlUjVLsPHW8",
        "outputId": "43712942-26aa-472e-94ac-f882d60bf939"
      },
      "execution_count": null,
      "outputs": [
        {
          "output_type": "stream",
          "name": "stdout",
          "text": [
            "+-----------------+-------+\n",
            "|prediction       |ranking|\n",
            "+-----------------+-------+\n",
            "|8.855714875854476|11.0   |\n",
            "|9.612252579623389|11.0   |\n",
            "|9.236476592976429|11.0   |\n",
            "|9.90838389473197 |11.0   |\n",
            "|9.965433833110572|11.0   |\n",
            "|9.79067599436856 |11.0   |\n",
            "|9.236476592976429|11.0   |\n",
            "|9.609165040773794|6.8    |\n",
            "|9.625525733215467|11.0   |\n",
            "|9.817460556107958|11.0   |\n",
            "+-----------------+-------+\n",
            "only showing top 10 rows\n",
            "\n"
          ]
        }
      ]
    },
    {
      "cell_type": "markdown",
      "source": [
        "---\n",
        "# **Task 4 - Model Evaluation and Accuracy Calculation**\n",
        "---"
      ],
      "metadata": {
        "id": "DtUxLhZ8rYMI"
      }
    },
    {
      "cell_type": "code",
      "source": [
        "# Measure the average squared difference between predicted values and actual values\n",
        "\n",
        "from pyspark.ml.evaluation import RegressionEvaluator\n",
        "\n",
        "evaluator_mse = RegressionEvaluator(labelCol = 'ranking', predictionCol = 'prediction', metricName = 'mse')\n",
        "# calculate MSE\n",
        "mse1 = evaluator_mse.evaluate(lr_predictions)\n",
        "mse2 = evaluator_mse.evaluate(lasso_predictions)\n",
        "mse3 = evaluator_mse.evaluate(ridge_predictions)\n"
      ],
      "metadata": {
        "id": "Cz6djrQbQ4Lf"
      },
      "execution_count": null,
      "outputs": []
    },
    {
      "cell_type": "code",
      "source": [
        "# Measure the square root of the MSE\n",
        "\n",
        "evaluator_rmse = RegressionEvaluator(labelCol = 'ranking', predictionCol = 'prediction', metricName = 'rmse')\n",
        "# calculate RMSE\n",
        "rmse1 = evaluator_rmse.evaluate(lr_predictions)\n",
        "rmse2 = evaluator_rmse.evaluate(lasso_predictions)\n",
        "rmse3 = evaluator_rmse.evaluate(ridge_predictions)\n",
        "\n",
        "# Measure how well the independant variables predict the actual data\n",
        "\n",
        "evaluator_r2 = RegressionEvaluator(labelCol = 'ranking', predictionCol = 'prediction', metricName = 'r2')\n",
        "# calculate R_squared\n",
        "r2_score1 = evaluator_r2.evaluate(lr_predictions)\n",
        "r2_score2 = evaluator_r2.evaluate(lasso_predictions)\n",
        "r2_score3 = evaluator_r2.evaluate(ridge_predictions)"
      ],
      "metadata": {
        "id": "ntj6Bk9bRfYx"
      },
      "execution_count": null,
      "outputs": []
    },
    {
      "cell_type": "code",
      "source": [
        "# Print full evaluation metrics\n",
        "print('Regression - MSE: ', mse1, ', RMSE: ', rmse1, ', R^2: ', r2_score1)\n",
        "print('Lasso - MSE: ', mse2, ', RMSE: ', rmse2, ', R^2: ', r2_score2)\n",
        "print('Ridge - MSE: ', mse3, ', RMSE: ', rmse3, ', R^2: ', r2_score3)"
      ],
      "metadata": {
        "colab": {
          "base_uri": "https://localhost:8080/"
        },
        "id": "4viKw6oitWC4",
        "outputId": "9b5905ef-9d9a-4b71-ca5a-5275f6c23e0d"
      },
      "execution_count": null,
      "outputs": [
        {
          "output_type": "stream",
          "name": "stdout",
          "text": [
            "Regression - MSE:  3.162624008531466 , RMSE:  1.7783767903713392 , R^2:  0.037606192397890426\n",
            "Lasso - MSE:  2.3875812451389478 , RMSE:  1.5451800041221566 , R^2:  0.2734534996034461\n",
            "Ridge - MSE:  2.4118655262705526 , RMSE:  1.5530181989502096 , R^2:  0.26606373663444316\n"
          ]
        }
      ]
    },
    {
      "cell_type": "markdown",
      "source": [
        "---\n",
        "# **Task 5 - Results Visualization or Printing**\n",
        "---"
      ],
      "metadata": {
        "id": "gesg7c4nre6u"
      }
    },
    {
      "cell_type": "code",
      "source": [
        "import matplotlib.pyplot as plt\n",
        "import numpy as np\n",
        "\n",
        "mse = [mse1, mse2, mse3]\n",
        "rmse = [rmse1, rmse2, rmse3]\n",
        "r2_score = [r2_score1, r2_score2, r2_score3]\n",
        "\n",
        "positions = np.arange(len(mse))\n",
        "bar_width = 0.2\n",
        "\n",
        "plt.bar(positions - bar_width, mse, width = bar_width, label = 'MSE')\n",
        "plt.bar(positions, rmse, width = bar_width, label = 'RMSE')\n",
        "plt.bar(positions + bar_width, r2_score, width = bar_width, label = 'R2_Score')\n",
        "\n",
        "# add titles\n",
        "plt.xlabel('Model')\n",
        "plt.ylabel('scores')\n",
        "plt.title('Comparison of Regression Metrics')\n",
        "\n",
        "# add legend\n",
        "plt.legend()\n",
        "plt.xticks(positions, ['Regression', 'Lasso', 'Ridge'])\n",
        "plt.show()"
      ],
      "metadata": {
        "colab": {
          "base_uri": "https://localhost:8080/",
          "height": 472
        },
        "id": "mcJp0eIvtgAk",
        "outputId": "45635c2e-362f-459a-f2b1-f1a9f8d30d03"
      },
      "execution_count": null,
      "outputs": [
        {
          "output_type": "display_data",
          "data": {
            "text/plain": [
              "<Figure size 640x480 with 1 Axes>"
            ],
            "image/png": "[encoded data removed]"
          },
          "metadata": {}
        }
      ]
    },
    {
      "cell_type": "markdown",
      "source": [
        "**Regression model:**\n",
        "\n",
        "- The regression model has a high MSE of 3.162624008531466 and RMSE of 1.7783767903713392 meaning the predicted values are roughly 1.7783 from the actual values.\n",
        "\n",
        "- R-squared at 0.0376 suggests that only a small percentage, roughly 4% of the variability in movie ratings is explained by the features. This indicates that the linear regression model may not be capturing the complex relationships between the features and movie ratings well.\n",
        "\n",
        "- The model may not be accurately capturing the relationships between the features (genre, title, movie length, votes, directors, stars) and movie ratings.\n",
        "\n",
        "\n",
        "**Lasso model:**\n",
        "\n",
        "- The Lasso model has a lower MSE 2.3875812451389478 and RMSE 1.5451800041221566 which shows that this models predictions are closer to the actual values - resulting in a better model than the basic regression model\n",
        "\n",
        "**Ridge model:**\n",
        "\n",
        "- The Ridge model also has lower MSE 2.4118655262705526 and RMSE  1.5530181989502096 - but evidently not lower than the lasso model. this shows this model performs better than the basic regression model but not better than the lasso model\n",
        "\n",
        "\n"
      ],
      "metadata": {
        "id": "oQYwQPucvLUt"
      }
    },
    {
      "cell_type": "markdown",
      "source": [
        "A possible ethical concern i noticed was around representation. The underrepresentation of certain genres, stars and directors can lead to biases within results. This would improve by having a diverse dataset containing a variety of these underrepresented figures."
      ],
      "metadata": {
        "id": "nPsoYUEnry2-"
      }
    }
  ]
}